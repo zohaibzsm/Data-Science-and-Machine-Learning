{
 "cells": [
  {
   "cell_type": "markdown",
   "id": "30751b31",
   "metadata": {},
   "source": [
    "## Hotel Booking Demand Analysis\n",
    "This dataset is aquired from **Kaggle** and contains booking information for a city hotel and a resort hotel, and includes information such as when the booking was made, length of stay, the number of adults, children, and/or babies, and the number of available parking spaces, among other things.\n",
    "\n",
    "### Dataset Link:\n",
    "https://www.kaggle.com/datasets/jessemostipak/hotel-booking-demand?sort=votes"
   ]
  },
  {
   "cell_type": "markdown",
   "id": "18f4b96d",
   "metadata": {},
   "source": [
    "## Objective:\n",
    "The objective of this Notebook is to analyze the **Demand of Hotel Booking** using the given dataset and gather findings that are presentable to the **Stakeholders** in order to make(suggest) the improvements(data-driven decisions) in their Hotel Management. Technically, **Exploratory Data Analysis**, commonly called EDA, will be performed in this Notebook using **Python** Visualization libraries like Matplotlib, Seaborn."
   ]
  },
  {
   "cell_type": "markdown",
   "id": "6c225ec1",
   "metadata": {},
   "source": [
    "## Data Loading"
   ]
  },
  {
   "cell_type": "code",
   "execution_count": 101,
   "id": "603d3539",
   "metadata": {},
   "outputs": [],
   "source": [
    "import numpy as np\n",
    "import pandas as pd\n",
    "import matplotlib.pyplot as plt\n",
    "import seaborn as sns\n",
    "import plotly.express as px"
   ]
  },
  {
   "cell_type": "code",
   "execution_count": 102,
   "id": "d1d5df40",
   "metadata": {},
   "outputs": [
    {
     "data": {
      "text/html": [
       "<div>\n",
       "<style scoped>\n",
       "    .dataframe tbody tr th:only-of-type {\n",
       "        vertical-align: middle;\n",
       "    }\n",
       "\n",
       "    .dataframe tbody tr th {\n",
       "        vertical-align: top;\n",
       "    }\n",
       "\n",
       "    .dataframe thead th {\n",
       "        text-align: right;\n",
       "    }\n",
       "</style>\n",
       "<table border=\"1\" class=\"dataframe\">\n",
       "  <thead>\n",
       "    <tr style=\"text-align: right;\">\n",
       "      <th></th>\n",
       "      <th>hotel</th>\n",
       "      <th>is_canceled</th>\n",
       "      <th>lead_time</th>\n",
       "      <th>arrival_date_year</th>\n",
       "      <th>arrival_date_month</th>\n",
       "      <th>arrival_date_week_number</th>\n",
       "      <th>arrival_date_day_of_month</th>\n",
       "      <th>stays_in_weekend_nights</th>\n",
       "      <th>stays_in_week_nights</th>\n",
       "      <th>adults</th>\n",
       "      <th>...</th>\n",
       "      <th>customer_type</th>\n",
       "      <th>adr</th>\n",
       "      <th>required_car_parking_spaces</th>\n",
       "      <th>total_of_special_requests</th>\n",
       "      <th>reservation_status</th>\n",
       "      <th>reservation_status_date</th>\n",
       "      <th>name</th>\n",
       "      <th>email</th>\n",
       "      <th>phone-number</th>\n",
       "      <th>credit_card</th>\n",
       "    </tr>\n",
       "  </thead>\n",
       "  <tbody>\n",
       "    <tr>\n",
       "      <th>0</th>\n",
       "      <td>Resort Hotel</td>\n",
       "      <td>0</td>\n",
       "      <td>342</td>\n",
       "      <td>2015</td>\n",
       "      <td>July</td>\n",
       "      <td>27</td>\n",
       "      <td>1</td>\n",
       "      <td>0</td>\n",
       "      <td>0</td>\n",
       "      <td>2</td>\n",
       "      <td>...</td>\n",
       "      <td>Transient</td>\n",
       "      <td>0.0</td>\n",
       "      <td>0</td>\n",
       "      <td>0</td>\n",
       "      <td>Check-Out</td>\n",
       "      <td>2015-07-01</td>\n",
       "      <td>Ernest Barnes</td>\n",
       "      <td>Ernest.Barnes31@outlook.com</td>\n",
       "      <td>669-792-1661</td>\n",
       "      <td>************4322</td>\n",
       "    </tr>\n",
       "    <tr>\n",
       "      <th>1</th>\n",
       "      <td>Resort Hotel</td>\n",
       "      <td>0</td>\n",
       "      <td>737</td>\n",
       "      <td>2015</td>\n",
       "      <td>July</td>\n",
       "      <td>27</td>\n",
       "      <td>1</td>\n",
       "      <td>0</td>\n",
       "      <td>0</td>\n",
       "      <td>2</td>\n",
       "      <td>...</td>\n",
       "      <td>Transient</td>\n",
       "      <td>0.0</td>\n",
       "      <td>0</td>\n",
       "      <td>0</td>\n",
       "      <td>Check-Out</td>\n",
       "      <td>2015-07-01</td>\n",
       "      <td>Andrea Baker</td>\n",
       "      <td>Andrea_Baker94@aol.com</td>\n",
       "      <td>858-637-6955</td>\n",
       "      <td>************9157</td>\n",
       "    </tr>\n",
       "    <tr>\n",
       "      <th>2</th>\n",
       "      <td>Resort Hotel</td>\n",
       "      <td>0</td>\n",
       "      <td>7</td>\n",
       "      <td>2015</td>\n",
       "      <td>July</td>\n",
       "      <td>27</td>\n",
       "      <td>1</td>\n",
       "      <td>0</td>\n",
       "      <td>1</td>\n",
       "      <td>1</td>\n",
       "      <td>...</td>\n",
       "      <td>Transient</td>\n",
       "      <td>75.0</td>\n",
       "      <td>0</td>\n",
       "      <td>0</td>\n",
       "      <td>Check-Out</td>\n",
       "      <td>2015-07-02</td>\n",
       "      <td>Rebecca Parker</td>\n",
       "      <td>Rebecca_Parker@comcast.net</td>\n",
       "      <td>652-885-2745</td>\n",
       "      <td>************3734</td>\n",
       "    </tr>\n",
       "    <tr>\n",
       "      <th>3</th>\n",
       "      <td>Resort Hotel</td>\n",
       "      <td>0</td>\n",
       "      <td>13</td>\n",
       "      <td>2015</td>\n",
       "      <td>July</td>\n",
       "      <td>27</td>\n",
       "      <td>1</td>\n",
       "      <td>0</td>\n",
       "      <td>1</td>\n",
       "      <td>1</td>\n",
       "      <td>...</td>\n",
       "      <td>Transient</td>\n",
       "      <td>75.0</td>\n",
       "      <td>0</td>\n",
       "      <td>0</td>\n",
       "      <td>Check-Out</td>\n",
       "      <td>2015-07-02</td>\n",
       "      <td>Laura Murray</td>\n",
       "      <td>Laura_M@gmail.com</td>\n",
       "      <td>364-656-8427</td>\n",
       "      <td>************5677</td>\n",
       "    </tr>\n",
       "    <tr>\n",
       "      <th>4</th>\n",
       "      <td>Resort Hotel</td>\n",
       "      <td>0</td>\n",
       "      <td>14</td>\n",
       "      <td>2015</td>\n",
       "      <td>July</td>\n",
       "      <td>27</td>\n",
       "      <td>1</td>\n",
       "      <td>0</td>\n",
       "      <td>2</td>\n",
       "      <td>2</td>\n",
       "      <td>...</td>\n",
       "      <td>Transient</td>\n",
       "      <td>98.0</td>\n",
       "      <td>0</td>\n",
       "      <td>1</td>\n",
       "      <td>Check-Out</td>\n",
       "      <td>2015-07-03</td>\n",
       "      <td>Linda Hines</td>\n",
       "      <td>LHines@verizon.com</td>\n",
       "      <td>713-226-5883</td>\n",
       "      <td>************5498</td>\n",
       "    </tr>\n",
       "  </tbody>\n",
       "</table>\n",
       "<p>5 rows × 36 columns</p>\n",
       "</div>"
      ],
      "text/plain": [
       "          hotel  is_canceled  lead_time  arrival_date_year arrival_date_month  \\\n",
       "0  Resort Hotel            0        342               2015               July   \n",
       "1  Resort Hotel            0        737               2015               July   \n",
       "2  Resort Hotel            0          7               2015               July   \n",
       "3  Resort Hotel            0         13               2015               July   \n",
       "4  Resort Hotel            0         14               2015               July   \n",
       "\n",
       "   arrival_date_week_number  arrival_date_day_of_month  \\\n",
       "0                        27                          1   \n",
       "1                        27                          1   \n",
       "2                        27                          1   \n",
       "3                        27                          1   \n",
       "4                        27                          1   \n",
       "\n",
       "   stays_in_weekend_nights  stays_in_week_nights  adults  ...  customer_type  \\\n",
       "0                        0                     0       2  ...      Transient   \n",
       "1                        0                     0       2  ...      Transient   \n",
       "2                        0                     1       1  ...      Transient   \n",
       "3                        0                     1       1  ...      Transient   \n",
       "4                        0                     2       2  ...      Transient   \n",
       "\n",
       "    adr required_car_parking_spaces total_of_special_requests  \\\n",
       "0   0.0                           0                         0   \n",
       "1   0.0                           0                         0   \n",
       "2  75.0                           0                         0   \n",
       "3  75.0                           0                         0   \n",
       "4  98.0                           0                         1   \n",
       "\n",
       "  reservation_status reservation_status_date            name  \\\n",
       "0          Check-Out              2015-07-01   Ernest Barnes   \n",
       "1          Check-Out              2015-07-01    Andrea Baker   \n",
       "2          Check-Out              2015-07-02  Rebecca Parker   \n",
       "3          Check-Out              2015-07-02    Laura Murray   \n",
       "4          Check-Out              2015-07-03     Linda Hines   \n",
       "\n",
       "                         email  phone-number       credit_card  \n",
       "0  Ernest.Barnes31@outlook.com  669-792-1661  ************4322  \n",
       "1       Andrea_Baker94@aol.com  858-637-6955  ************9157  \n",
       "2   Rebecca_Parker@comcast.net  652-885-2745  ************3734  \n",
       "3            Laura_M@gmail.com  364-656-8427  ************5677  \n",
       "4           LHines@verizon.com  713-226-5883  ************5498  \n",
       "\n",
       "[5 rows x 36 columns]"
      ]
     },
     "execution_count": 102,
     "metadata": {},
     "output_type": "execute_result"
    }
   ],
   "source": [
    "df = pd.read_excel('hotel_booking_workbook.xlsx')\n",
    "df.head()"
   ]
  },
  {
   "cell_type": "code",
   "execution_count": 103,
   "id": "3afc7221",
   "metadata": {},
   "outputs": [
    {
     "data": {
      "text/plain": [
       "Index(['hotel', 'is_canceled', 'lead_time', 'arrival_date_year',\n",
       "       'arrival_date_month', 'arrival_date_week_number',\n",
       "       'arrival_date_day_of_month', 'stays_in_weekend_nights',\n",
       "       'stays_in_week_nights', 'adults', 'children', 'babies', 'meal',\n",
       "       'country', 'market_segment', 'distribution_channel',\n",
       "       'is_repeated_guest', 'previous_cancellations',\n",
       "       'previous_bookings_not_canceled', 'reserved_room_type',\n",
       "       'assigned_room_type', 'booking_changes', 'deposit_type', 'agent',\n",
       "       'company', 'days_in_waiting_list', 'customer_type', 'adr',\n",
       "       'required_car_parking_spaces', 'total_of_special_requests',\n",
       "       'reservation_status', 'reservation_status_date', 'name', 'email',\n",
       "       'phone-number', 'credit_card'],\n",
       "      dtype='object')"
      ]
     },
     "execution_count": 103,
     "metadata": {},
     "output_type": "execute_result"
    }
   ],
   "source": [
    "# view column names to check the features that may be suitable(or meaningful) combination in visualizations\n",
    "df.columns"
   ]
  },
  {
   "cell_type": "code",
   "execution_count": 104,
   "id": "6f1348d3",
   "metadata": {},
   "outputs": [
    {
     "data": {
      "text/plain": [
       "36"
      ]
     },
     "execution_count": 104,
     "metadata": {},
     "output_type": "execute_result"
    }
   ],
   "source": [
    "# always make a copy of the original dataset, you don't need to load the dataset again and again(if it's large enough). \n",
    "df1=df.copy()\n",
    "# no. of columns BEFORE dropping irrelevant features(columns)\n",
    "len(df1.columns)"
   ]
  },
  {
   "cell_type": "markdown",
   "id": "2f64163c",
   "metadata": {},
   "source": [
    "## Data Preprocessing"
   ]
  },
  {
   "cell_type": "markdown",
   "id": "a02d76da",
   "metadata": {},
   "source": [
    "### Drop irrelavant columns"
   ]
  },
  {
   "cell_type": "markdown",
   "id": "ab8c1e07",
   "metadata": {},
   "source": [
    "Some of the columns just doesn't make sense for our analysis. So removing them before starting the further exploration as it well save the memory.  \n",
    "\n",
    "The columns **name, email**, and **phone-number** may be useful for promotion of business or any new exciting offers. So if you want to keep them, go for it. No worries :)"
   ]
  },
  {
   "cell_type": "code",
   "execution_count": 105,
   "id": "be62df30",
   "metadata": {},
   "outputs": [
    {
     "data": {
      "text/plain": [
       "32"
      ]
     },
     "execution_count": 105,
     "metadata": {},
     "output_type": "execute_result"
    }
   ],
   "source": [
    "df1=df1.drop(columns=['name', 'email',\n",
    "       'phone-number', 'credit_card'], axis=1)\n",
    "# no. of columns AFTER dropping irrelevant features(columns)\n",
    "len(df1.columns)"
   ]
  },
  {
   "cell_type": "markdown",
   "id": "2b4c11a4",
   "metadata": {},
   "source": [
    "Looks like it worked."
   ]
  },
  {
   "cell_type": "markdown",
   "id": "2f019c02",
   "metadata": {},
   "source": [
    "### Checking Missing values"
   ]
  },
  {
   "cell_type": "markdown",
   "id": "92ecaa80",
   "metadata": {},
   "source": [
    "Let's check the count and percentages of Missing values"
   ]
  },
  {
   "cell_type": "code",
   "execution_count": 106,
   "id": "883676e3",
   "metadata": {
    "scrolled": true
   },
   "outputs": [
    {
     "data": {
      "text/plain": [
       "company               112593\n",
       "agent                  16340\n",
       "country                  488\n",
       "children                   4\n",
       "reserved_room_type         0\n",
       "dtype: int64"
      ]
     },
     "execution_count": 106,
     "metadata": {},
     "output_type": "execute_result"
    }
   ],
   "source": [
    "# limiting to the only top 5 columns if your last column (in my case, 'hotel') has more than(or atleast) one missing value, \n",
    "# please adjust your indexing(in my case, '[:5]') accordingly.\n",
    "\n",
    "# count\n",
    "df1.isnull().agg('sum').sort_values(ascending=False)[:5]"
   ]
  },
  {
   "cell_type": "code",
   "execution_count": 107,
   "id": "3b08e204",
   "metadata": {},
   "outputs": [
    {
     "data": {
      "text/plain": [
       "company               0.943069\n",
       "agent                 0.136862\n",
       "country               0.004087\n",
       "children              0.000034\n",
       "reserved_room_type    0.000000\n",
       "dtype: float64"
      ]
     },
     "execution_count": 107,
     "metadata": {},
     "output_type": "execute_result"
    }
   ],
   "source": [
    "# if you want to view the percentages\n",
    "df1.isnull().agg('sum').sort_values(ascending=False)[:5]/df1.shape[0]"
   ]
  },
  {
   "cell_type": "markdown",
   "id": "f4b35310",
   "metadata": {},
   "source": [
    "As you can see, Our dataset having 4 columns, contain missing values."
   ]
  },
  {
   "cell_type": "markdown",
   "id": "02974553",
   "metadata": {},
   "source": [
    "### Handling Missing values"
   ]
  },
  {
   "cell_type": "markdown",
   "id": "c173cf09",
   "metadata": {},
   "source": [
    "Let's explore one be one and fix them."
   ]
  },
  {
   "cell_type": "markdown",
   "id": "200db27d",
   "metadata": {},
   "source": [
    "#### Company column"
   ]
  },
  {
   "cell_type": "code",
   "execution_count": 108,
   "id": "85aa8d0d",
   "metadata": {},
   "outputs": [
    {
     "data": {
      "text/plain": [
       "18        110.0\n",
       "218       110.0\n",
       "219       110.0\n",
       "220       110.0\n",
       "295       113.0\n",
       "          ...  \n",
       "119119    451.0\n",
       "119122    451.0\n",
       "119123    451.0\n",
       "119124     72.0\n",
       "119248    485.0\n",
       "Name: company, Length: 6797, dtype: float64"
      ]
     },
     "execution_count": 108,
     "metadata": {},
     "output_type": "execute_result"
    }
   ],
   "source": [
    "df1[df1.company.notna()]['company']"
   ]
  },
  {
   "cell_type": "code",
   "execution_count": 109,
   "id": "c46e6791",
   "metadata": {},
   "outputs": [
    {
     "data": {
      "text/plain": [
       "5.693106625345506"
      ]
     },
     "execution_count": 109,
     "metadata": {},
     "output_type": "execute_result"
    }
   ],
   "source": [
    "# percentage of existing records\n",
    "(df1.company.notna().sum()/df1.shape[0])*100"
   ]
  },
  {
   "cell_type": "markdown",
   "id": "5597eb1c",
   "metadata": {},
   "source": [
    "The company columns represent itself with decimal(float) number and as we have seen above, almost  94% of them are missing. So, dropping it will be better as it doesn't contribute much to the dataset. That means most of the cutomers made booking from other sources or themselves."
   ]
  },
  {
   "cell_type": "code",
   "execution_count": 110,
   "id": "c3490007",
   "metadata": {},
   "outputs": [],
   "source": [
    "df1 = df1.drop('company', axis=1)"
   ]
  },
  {
   "cell_type": "markdown",
   "id": "f61a4228",
   "metadata": {},
   "source": [
    "#### Agent feature(column)"
   ]
  },
  {
   "cell_type": "code",
   "execution_count": 111,
   "id": "0d793fe6",
   "metadata": {},
   "outputs": [
    {
     "data": {
      "text/plain": [
       "3         304.0\n",
       "4         240.0\n",
       "5         240.0\n",
       "7         303.0\n",
       "8         240.0\n",
       "          ...  \n",
       "119385    394.0\n",
       "119386      9.0\n",
       "119387      9.0\n",
       "119388     89.0\n",
       "119389      9.0\n",
       "Name: agent, Length: 103050, dtype: float64"
      ]
     },
     "execution_count": 111,
     "metadata": {},
     "output_type": "execute_result"
    }
   ],
   "source": [
    "df1[df1.agent.notna()]['agent']"
   ]
  },
  {
   "cell_type": "code",
   "execution_count": 112,
   "id": "d43e31b9",
   "metadata": {},
   "outputs": [
    {
     "data": {
      "text/plain": [
       "0.8631376162157635"
      ]
     },
     "execution_count": 112,
     "metadata": {},
     "output_type": "execute_result"
    }
   ],
   "source": [
    "df1.agent.notna().sum()/df1.shape[0]"
   ]
  },
  {
   "cell_type": "markdown",
   "id": "ad50ab42",
   "metadata": {},
   "source": [
    "This also contain decimal values and it contributes almost 86% in the dataset. Dropping it isn't a good option.   \n",
    "However, we can fill theses missing values using the Mode(most frequent value) of the same column. Because the values are in decimal but it's not kind of the continuous variable instead categorical(like agent number). It suggests that most of the bookings were made by the agents, so replacing missing values with the agent having maximum count."
   ]
  },
  {
   "cell_type": "code",
   "execution_count": 113,
   "id": "f6c69398",
   "metadata": {},
   "outputs": [],
   "source": [
    "# get the mode\n",
    "mode=df1.agent.mode()[0]\n",
    "\n",
    "# other ways to get the mode (just change the column name)\n",
    "# df1.agent.mode().values[0]\n",
    "# df1.agent.value_counts().sort_values(ascending=False).index[0]\n",
    "\n",
    "# fill missing values with mode\n",
    "df1.agent = df1.agent.fillna(mode,)"
   ]
  },
  {
   "cell_type": "code",
   "execution_count": 114,
   "id": "59242ba6",
   "metadata": {},
   "outputs": [
    {
     "data": {
      "text/plain": [
       "array([ nan, 304., 240., 303.,  15., 241.,   8., 250., 115.,   5., 175.,\n",
       "       134., 156., 243., 242.,   3., 105.,  40., 147., 306., 184.,  96.,\n",
       "         2., 127.,  95., 146.,   9., 177.,   6., 143., 244., 149., 167.,\n",
       "       300., 171., 305.,  67., 196., 152., 142., 261., 104.,  36.,  26.,\n",
       "        29., 258., 110.,  71., 181.,  88., 251., 275.,  69., 248., 208.,\n",
       "       256., 314., 126., 281., 273., 253., 185., 330., 334., 328., 326.,\n",
       "       321., 324., 313.,  38., 155.,  68., 335., 308., 332.,  94., 348.,\n",
       "       310., 339., 375.,  66., 327., 387., 298.,  91., 245., 385., 257.,\n",
       "       393., 168., 405., 249., 315.,  75., 128., 307.,  11., 436.,   1.,\n",
       "       201., 183., 223., 368., 336., 291., 464., 411., 481.,  10., 154.,\n",
       "       468., 410., 390., 440., 495., 492., 493., 434.,  57., 531., 420.,\n",
       "       483., 526., 472., 429.,  16., 446.,  34.,  78., 139., 252., 270.,\n",
       "        47., 114., 301., 193., 182., 135., 350., 195., 352., 355., 159.,\n",
       "       363., 384., 360., 331., 367.,  64., 406., 163., 414., 333., 427.,\n",
       "       431., 430., 426., 438., 433., 418., 441., 282., 432.,  72., 450.,\n",
       "       180., 454., 455.,  59., 451., 254., 358., 469., 165., 467., 510.,\n",
       "       337., 476., 502., 527., 479., 508., 535., 302., 497., 187.,  13.,\n",
       "         7.,  27.,  14.,  22.,  17.,  28.,  42.,  20.,  19.,  45.,  37.,\n",
       "        61.,  39.,  21.,  24.,  41.,  50.,  30.,  54.,  52.,  12.,  44.,\n",
       "        31.,  83.,  32.,  63.,  60.,  55.,  56.,  89.,  87., 118.,  86.,\n",
       "        85., 210., 214., 129., 179., 138., 174., 170., 153.,  93., 151.,\n",
       "       119.,  35., 173.,  58.,  53., 133.,  79., 235., 192., 191., 236.,\n",
       "       162., 215., 157., 287., 132., 234.,  98.,  77., 103., 107., 262.,\n",
       "       220., 121., 205., 378.,  23., 296., 290., 229.,  33., 286., 276.,\n",
       "       425., 484., 323., 403., 219., 394., 509., 111., 423.,   4.,  70.,\n",
       "        82.,  81.,  74.,  92.,  99.,  90., 112., 117., 106., 148., 158.,\n",
       "       144., 211., 213., 216., 232., 150., 267., 227., 247., 278., 280.,\n",
       "       285., 289., 269., 295., 265., 288., 122., 294., 325., 341., 344.,\n",
       "       346., 359., 283., 364., 370., 371.,  25., 141., 391., 397., 416.,\n",
       "       404., 299., 197.,  73., 354., 444., 408., 461., 388., 453., 459.,\n",
       "       474., 475., 480., 449.])"
      ]
     },
     "execution_count": 114,
     "metadata": {},
     "output_type": "execute_result"
    }
   ],
   "source": [
    "df.agent.unique()"
   ]
  },
  {
   "cell_type": "markdown",
   "id": "bb005f7f",
   "metadata": {},
   "source": [
    "#### Country column"
   ]
  },
  {
   "cell_type": "code",
   "execution_count": 115,
   "id": "f7daa24e",
   "metadata": {},
   "outputs": [
    {
     "data": {
      "text/plain": [
       "0.9959125554904096"
      ]
     },
     "execution_count": 115,
     "metadata": {},
     "output_type": "execute_result"
    }
   ],
   "source": [
    "df1.country.unique()\n",
    "df1.country.notna().sum()/df1.shape[0]"
   ]
  },
  {
   "cell_type": "markdown",
   "id": "43e8c45c",
   "metadata": {},
   "source": [
    "As it can be seen that the country column has less than 1% records missing. \n",
    "Replacing it with Mode(most repeated country value)."
   ]
  },
  {
   "cell_type": "code",
   "execution_count": 116,
   "id": "30f179fb",
   "metadata": {},
   "outputs": [
    {
     "data": {
      "text/plain": [
       "'PRT'"
      ]
     },
     "execution_count": 116,
     "metadata": {},
     "output_type": "execute_result"
    }
   ],
   "source": [
    "df1.country.mode()[0]"
   ]
  },
  {
   "cell_type": "code",
   "execution_count": 117,
   "id": "7047931b",
   "metadata": {},
   "outputs": [],
   "source": [
    "# get the mode\n",
    "mode=df1.country.mode()[0]\n",
    "\n",
    "# fill missing values with mode\n",
    "df1.country = df1.country.fillna(mode,)"
   ]
  },
  {
   "cell_type": "markdown",
   "id": "04be3fab",
   "metadata": {},
   "source": [
    "#### Children column"
   ]
  },
  {
   "cell_type": "markdown",
   "id": "dd8536e1",
   "metadata": {},
   "source": [
    "Now we are left with only the 'children' column.   \n",
    "We have two options here, drop those record as it won't affect our dataset or replace with the mode again."
   ]
  },
  {
   "cell_type": "code",
   "execution_count": 118,
   "id": "aad60e99",
   "metadata": {},
   "outputs": [
    {
     "data": {
      "text/plain": [
       "4"
      ]
     },
     "execution_count": 118,
     "metadata": {},
     "output_type": "execute_result"
    }
   ],
   "source": [
    "df1.children.isna().sum()"
   ]
  },
  {
   "cell_type": "code",
   "execution_count": 119,
   "id": "b715a076",
   "metadata": {},
   "outputs": [
    {
     "data": {
      "text/plain": [
       "0"
      ]
     },
     "execution_count": 119,
     "metadata": {},
     "output_type": "execute_result"
    }
   ],
   "source": [
    "# dropping children missing values\n",
    "df1.dropna(inplace=True)\n",
    "\n",
    "# checking if the records dropped successfully\n",
    "df1.children.isna().sum()"
   ]
  },
  {
   "cell_type": "code",
   "execution_count": 120,
   "id": "6d4537e3",
   "metadata": {},
   "outputs": [
    {
     "data": {
      "text/plain": [
       "hotel                             0\n",
       "is_canceled                       0\n",
       "lead_time                         0\n",
       "arrival_date_year                 0\n",
       "arrival_date_month                0\n",
       "arrival_date_week_number          0\n",
       "arrival_date_day_of_month         0\n",
       "stays_in_weekend_nights           0\n",
       "stays_in_week_nights              0\n",
       "adults                            0\n",
       "children                          0\n",
       "babies                            0\n",
       "meal                              0\n",
       "country                           0\n",
       "market_segment                    0\n",
       "distribution_channel              0\n",
       "is_repeated_guest                 0\n",
       "previous_cancellations            0\n",
       "previous_bookings_not_canceled    0\n",
       "reserved_room_type                0\n",
       "assigned_room_type                0\n",
       "booking_changes                   0\n",
       "deposit_type                      0\n",
       "agent                             0\n",
       "days_in_waiting_list              0\n",
       "customer_type                     0\n",
       "adr                               0\n",
       "required_car_parking_spaces       0\n",
       "total_of_special_requests         0\n",
       "reservation_status                0\n",
       "reservation_status_date           0\n",
       "dtype: int64"
      ]
     },
     "execution_count": 120,
     "metadata": {},
     "output_type": "execute_result"
    }
   ],
   "source": [
    "# final check of missing values in the entire dataset\n",
    "df1.isnull().sum()"
   ]
  },
  {
   "cell_type": "markdown",
   "id": "7445eec3",
   "metadata": {},
   "source": [
    "**We are done with the Missing values till here.**"
   ]
  },
  {
   "cell_type": "code",
   "execution_count": 121,
   "id": "88292055",
   "metadata": {},
   "outputs": [
    {
     "data": {
      "text/html": [
       "<div>\n",
       "<style scoped>\n",
       "    .dataframe tbody tr th:only-of-type {\n",
       "        vertical-align: middle;\n",
       "    }\n",
       "\n",
       "    .dataframe tbody tr th {\n",
       "        vertical-align: top;\n",
       "    }\n",
       "\n",
       "    .dataframe thead th {\n",
       "        text-align: right;\n",
       "    }\n",
       "</style>\n",
       "<table border=\"1\" class=\"dataframe\">\n",
       "  <thead>\n",
       "    <tr style=\"text-align: right;\">\n",
       "      <th></th>\n",
       "      <th>is_canceled</th>\n",
       "      <th>lead_time</th>\n",
       "      <th>arrival_date_year</th>\n",
       "      <th>arrival_date_week_number</th>\n",
       "      <th>arrival_date_day_of_month</th>\n",
       "      <th>stays_in_weekend_nights</th>\n",
       "      <th>stays_in_week_nights</th>\n",
       "      <th>adults</th>\n",
       "      <th>children</th>\n",
       "      <th>babies</th>\n",
       "      <th>is_repeated_guest</th>\n",
       "      <th>previous_cancellations</th>\n",
       "      <th>previous_bookings_not_canceled</th>\n",
       "      <th>booking_changes</th>\n",
       "      <th>agent</th>\n",
       "      <th>days_in_waiting_list</th>\n",
       "      <th>adr</th>\n",
       "      <th>required_car_parking_spaces</th>\n",
       "      <th>total_of_special_requests</th>\n",
       "    </tr>\n",
       "  </thead>\n",
       "  <tbody>\n",
       "    <tr>\n",
       "      <th>count</th>\n",
       "      <td>119386.000000</td>\n",
       "      <td>119386.000000</td>\n",
       "      <td>119386.000000</td>\n",
       "      <td>119386.000000</td>\n",
       "      <td>119386.000000</td>\n",
       "      <td>119386.000000</td>\n",
       "      <td>119386.000000</td>\n",
       "      <td>119386.000000</td>\n",
       "      <td>119386.000000</td>\n",
       "      <td>119386.000000</td>\n",
       "      <td>119386.000000</td>\n",
       "      <td>119386.000000</td>\n",
       "      <td>119386.000000</td>\n",
       "      <td>119386.000000</td>\n",
       "      <td>119386.000000</td>\n",
       "      <td>119386.000000</td>\n",
       "      <td>119386.000000</td>\n",
       "      <td>119386.000000</td>\n",
       "      <td>119386.000000</td>\n",
       "    </tr>\n",
       "    <tr>\n",
       "      <th>mean</th>\n",
       "      <td>0.370395</td>\n",
       "      <td>104.014801</td>\n",
       "      <td>2016.156593</td>\n",
       "      <td>27.165003</td>\n",
       "      <td>15.798553</td>\n",
       "      <td>0.927605</td>\n",
       "      <td>2.500310</td>\n",
       "      <td>1.856390</td>\n",
       "      <td>0.103890</td>\n",
       "      <td>0.007949</td>\n",
       "      <td>0.031913</td>\n",
       "      <td>0.087121</td>\n",
       "      <td>0.137102</td>\n",
       "      <td>0.221131</td>\n",
       "      <td>76.062285</td>\n",
       "      <td>2.321227</td>\n",
       "      <td>101.833541</td>\n",
       "      <td>0.062520</td>\n",
       "      <td>0.571340</td>\n",
       "    </tr>\n",
       "    <tr>\n",
       "      <th>std</th>\n",
       "      <td>0.482913</td>\n",
       "      <td>106.863286</td>\n",
       "      <td>0.707456</td>\n",
       "      <td>13.605334</td>\n",
       "      <td>8.780783</td>\n",
       "      <td>0.998618</td>\n",
       "      <td>1.908289</td>\n",
       "      <td>0.579261</td>\n",
       "      <td>0.398561</td>\n",
       "      <td>0.097438</td>\n",
       "      <td>0.175770</td>\n",
       "      <td>0.844350</td>\n",
       "      <td>1.497462</td>\n",
       "      <td>0.652315</td>\n",
       "      <td>106.324303</td>\n",
       "      <td>17.595011</td>\n",
       "      <td>50.534664</td>\n",
       "      <td>0.245295</td>\n",
       "      <td>0.792798</td>\n",
       "    </tr>\n",
       "    <tr>\n",
       "      <th>min</th>\n",
       "      <td>0.000000</td>\n",
       "      <td>0.000000</td>\n",
       "      <td>2015.000000</td>\n",
       "      <td>1.000000</td>\n",
       "      <td>1.000000</td>\n",
       "      <td>0.000000</td>\n",
       "      <td>0.000000</td>\n",
       "      <td>0.000000</td>\n",
       "      <td>0.000000</td>\n",
       "      <td>0.000000</td>\n",
       "      <td>0.000000</td>\n",
       "      <td>0.000000</td>\n",
       "      <td>0.000000</td>\n",
       "      <td>0.000000</td>\n",
       "      <td>1.000000</td>\n",
       "      <td>0.000000</td>\n",
       "      <td>-6.380000</td>\n",
       "      <td>0.000000</td>\n",
       "      <td>0.000000</td>\n",
       "    </tr>\n",
       "    <tr>\n",
       "      <th>25%</th>\n",
       "      <td>0.000000</td>\n",
       "      <td>18.000000</td>\n",
       "      <td>2016.000000</td>\n",
       "      <td>16.000000</td>\n",
       "      <td>8.000000</td>\n",
       "      <td>0.000000</td>\n",
       "      <td>1.000000</td>\n",
       "      <td>2.000000</td>\n",
       "      <td>0.000000</td>\n",
       "      <td>0.000000</td>\n",
       "      <td>0.000000</td>\n",
       "      <td>0.000000</td>\n",
       "      <td>0.000000</td>\n",
       "      <td>0.000000</td>\n",
       "      <td>9.000000</td>\n",
       "      <td>0.000000</td>\n",
       "      <td>69.290000</td>\n",
       "      <td>0.000000</td>\n",
       "      <td>0.000000</td>\n",
       "    </tr>\n",
       "    <tr>\n",
       "      <th>50%</th>\n",
       "      <td>0.000000</td>\n",
       "      <td>69.000000</td>\n",
       "      <td>2016.000000</td>\n",
       "      <td>28.000000</td>\n",
       "      <td>16.000000</td>\n",
       "      <td>1.000000</td>\n",
       "      <td>2.000000</td>\n",
       "      <td>2.000000</td>\n",
       "      <td>0.000000</td>\n",
       "      <td>0.000000</td>\n",
       "      <td>0.000000</td>\n",
       "      <td>0.000000</td>\n",
       "      <td>0.000000</td>\n",
       "      <td>0.000000</td>\n",
       "      <td>9.000000</td>\n",
       "      <td>0.000000</td>\n",
       "      <td>94.590000</td>\n",
       "      <td>0.000000</td>\n",
       "      <td>0.000000</td>\n",
       "    </tr>\n",
       "    <tr>\n",
       "      <th>75%</th>\n",
       "      <td>1.000000</td>\n",
       "      <td>160.000000</td>\n",
       "      <td>2017.000000</td>\n",
       "      <td>38.000000</td>\n",
       "      <td>23.000000</td>\n",
       "      <td>2.000000</td>\n",
       "      <td>3.000000</td>\n",
       "      <td>2.000000</td>\n",
       "      <td>0.000000</td>\n",
       "      <td>0.000000</td>\n",
       "      <td>0.000000</td>\n",
       "      <td>0.000000</td>\n",
       "      <td>0.000000</td>\n",
       "      <td>0.000000</td>\n",
       "      <td>152.000000</td>\n",
       "      <td>0.000000</td>\n",
       "      <td>126.000000</td>\n",
       "      <td>0.000000</td>\n",
       "      <td>1.000000</td>\n",
       "    </tr>\n",
       "    <tr>\n",
       "      <th>max</th>\n",
       "      <td>1.000000</td>\n",
       "      <td>737.000000</td>\n",
       "      <td>2017.000000</td>\n",
       "      <td>53.000000</td>\n",
       "      <td>31.000000</td>\n",
       "      <td>19.000000</td>\n",
       "      <td>50.000000</td>\n",
       "      <td>55.000000</td>\n",
       "      <td>10.000000</td>\n",
       "      <td>10.000000</td>\n",
       "      <td>1.000000</td>\n",
       "      <td>26.000000</td>\n",
       "      <td>72.000000</td>\n",
       "      <td>21.000000</td>\n",
       "      <td>535.000000</td>\n",
       "      <td>391.000000</td>\n",
       "      <td>5400.000000</td>\n",
       "      <td>8.000000</td>\n",
       "      <td>5.000000</td>\n",
       "    </tr>\n",
       "  </tbody>\n",
       "</table>\n",
       "</div>"
      ],
      "text/plain": [
       "         is_canceled      lead_time  arrival_date_year  \\\n",
       "count  119386.000000  119386.000000      119386.000000   \n",
       "mean        0.370395     104.014801        2016.156593   \n",
       "std         0.482913     106.863286           0.707456   \n",
       "min         0.000000       0.000000        2015.000000   \n",
       "25%         0.000000      18.000000        2016.000000   \n",
       "50%         0.000000      69.000000        2016.000000   \n",
       "75%         1.000000     160.000000        2017.000000   \n",
       "max         1.000000     737.000000        2017.000000   \n",
       "\n",
       "       arrival_date_week_number  arrival_date_day_of_month  \\\n",
       "count             119386.000000              119386.000000   \n",
       "mean                  27.165003                  15.798553   \n",
       "std                   13.605334                   8.780783   \n",
       "min                    1.000000                   1.000000   \n",
       "25%                   16.000000                   8.000000   \n",
       "50%                   28.000000                  16.000000   \n",
       "75%                   38.000000                  23.000000   \n",
       "max                   53.000000                  31.000000   \n",
       "\n",
       "       stays_in_weekend_nights  stays_in_week_nights         adults  \\\n",
       "count            119386.000000         119386.000000  119386.000000   \n",
       "mean                  0.927605              2.500310       1.856390   \n",
       "std                   0.998618              1.908289       0.579261   \n",
       "min                   0.000000              0.000000       0.000000   \n",
       "25%                   0.000000              1.000000       2.000000   \n",
       "50%                   1.000000              2.000000       2.000000   \n",
       "75%                   2.000000              3.000000       2.000000   \n",
       "max                  19.000000             50.000000      55.000000   \n",
       "\n",
       "            children         babies  is_repeated_guest  \\\n",
       "count  119386.000000  119386.000000      119386.000000   \n",
       "mean        0.103890       0.007949           0.031913   \n",
       "std         0.398561       0.097438           0.175770   \n",
       "min         0.000000       0.000000           0.000000   \n",
       "25%         0.000000       0.000000           0.000000   \n",
       "50%         0.000000       0.000000           0.000000   \n",
       "75%         0.000000       0.000000           0.000000   \n",
       "max        10.000000      10.000000           1.000000   \n",
       "\n",
       "       previous_cancellations  previous_bookings_not_canceled  \\\n",
       "count           119386.000000                   119386.000000   \n",
       "mean                 0.087121                        0.137102   \n",
       "std                  0.844350                        1.497462   \n",
       "min                  0.000000                        0.000000   \n",
       "25%                  0.000000                        0.000000   \n",
       "50%                  0.000000                        0.000000   \n",
       "75%                  0.000000                        0.000000   \n",
       "max                 26.000000                       72.000000   \n",
       "\n",
       "       booking_changes          agent  days_in_waiting_list            adr  \\\n",
       "count    119386.000000  119386.000000         119386.000000  119386.000000   \n",
       "mean          0.221131      76.062285              2.321227     101.833541   \n",
       "std           0.652315     106.324303             17.595011      50.534664   \n",
       "min           0.000000       1.000000              0.000000      -6.380000   \n",
       "25%           0.000000       9.000000              0.000000      69.290000   \n",
       "50%           0.000000       9.000000              0.000000      94.590000   \n",
       "75%           0.000000     152.000000              0.000000     126.000000   \n",
       "max          21.000000     535.000000            391.000000    5400.000000   \n",
       "\n",
       "       required_car_parking_spaces  total_of_special_requests  \n",
       "count                119386.000000              119386.000000  \n",
       "mean                      0.062520                   0.571340  \n",
       "std                       0.245295                   0.792798  \n",
       "min                       0.000000                   0.000000  \n",
       "25%                       0.000000                   0.000000  \n",
       "50%                       0.000000                   0.000000  \n",
       "75%                       0.000000                   1.000000  \n",
       "max                       8.000000                   5.000000  "
      ]
     },
     "execution_count": 121,
     "metadata": {},
     "output_type": "execute_result"
    }
   ],
   "source": [
    "# Let's first explore the descriptive statistics\n",
    "df1.describe()"
   ]
  },
  {
   "cell_type": "code",
   "execution_count": 122,
   "id": "d8466838",
   "metadata": {
    "scrolled": true
   },
   "outputs": [
    {
     "data": {
      "text/html": [
       "<div>\n",
       "<style scoped>\n",
       "    .dataframe tbody tr th:only-of-type {\n",
       "        vertical-align: middle;\n",
       "    }\n",
       "\n",
       "    .dataframe tbody tr th {\n",
       "        vertical-align: top;\n",
       "    }\n",
       "\n",
       "    .dataframe thead th {\n",
       "        text-align: right;\n",
       "    }\n",
       "</style>\n",
       "<table border=\"1\" class=\"dataframe\">\n",
       "  <thead>\n",
       "    <tr style=\"text-align: right;\">\n",
       "      <th></th>\n",
       "      <th>adults</th>\n",
       "      <th>children</th>\n",
       "      <th>babies</th>\n",
       "      <th>is_canceled</th>\n",
       "    </tr>\n",
       "  </thead>\n",
       "  <tbody>\n",
       "    <tr>\n",
       "      <th>2224</th>\n",
       "      <td>0</td>\n",
       "      <td>0.0</td>\n",
       "      <td>0</td>\n",
       "      <td>0</td>\n",
       "    </tr>\n",
       "    <tr>\n",
       "      <th>2409</th>\n",
       "      <td>0</td>\n",
       "      <td>0.0</td>\n",
       "      <td>0</td>\n",
       "      <td>0</td>\n",
       "    </tr>\n",
       "    <tr>\n",
       "      <th>3181</th>\n",
       "      <td>0</td>\n",
       "      <td>0.0</td>\n",
       "      <td>0</td>\n",
       "      <td>0</td>\n",
       "    </tr>\n",
       "    <tr>\n",
       "      <th>3684</th>\n",
       "      <td>0</td>\n",
       "      <td>0.0</td>\n",
       "      <td>0</td>\n",
       "      <td>0</td>\n",
       "    </tr>\n",
       "    <tr>\n",
       "      <th>3708</th>\n",
       "      <td>0</td>\n",
       "      <td>0.0</td>\n",
       "      <td>0</td>\n",
       "      <td>0</td>\n",
       "    </tr>\n",
       "  </tbody>\n",
       "</table>\n",
       "</div>"
      ],
      "text/plain": [
       "      adults  children  babies  is_canceled\n",
       "2224       0       0.0       0            0\n",
       "2409       0       0.0       0            0\n",
       "3181       0       0.0       0            0\n",
       "3684       0       0.0       0            0\n",
       "3708       0       0.0       0            0"
      ]
     },
     "execution_count": 122,
     "metadata": {},
     "output_type": "execute_result"
    }
   ],
   "source": [
    "# Looking at the minimum values for the adults, children, and babies columns\n",
    "df1[(df1['adults']+df1['children']+df1['babies']+df1['is_canceled'])==0][['adults', 'children', 'babies', 'is_canceled']].head()"
   ]
  },
  {
   "cell_type": "markdown",
   "id": "40107f1a",
   "metadata": {},
   "source": [
    "The above result just doesn't make sense. As the user has not cancelled the booking but no adults, children or babies in\n",
    "the hotel."
   ]
  },
  {
   "cell_type": "code",
   "execution_count": 123,
   "id": "3d47eb7a",
   "metadata": {},
   "outputs": [],
   "source": [
    "# fixing the above inconsistency\n",
    "df1=df1.loc[~((df1['adults']+df1['children']+df1['babies']+df1['is_canceled'])==0)]"
   ]
  },
  {
   "cell_type": "code",
   "execution_count": 124,
   "id": "85df8c14",
   "metadata": {},
   "outputs": [
    {
     "data": {
      "text/plain": [
       "(119231, 31)"
      ]
     },
     "execution_count": 124,
     "metadata": {},
     "output_type": "execute_result"
    }
   ],
   "source": [
    "df1.shape"
   ]
  },
  {
   "cell_type": "code",
   "execution_count": 125,
   "id": "95a7aef7",
   "metadata": {},
   "outputs": [
    {
     "data": {
      "text/html": [
       "<div>\n",
       "<style scoped>\n",
       "    .dataframe tbody tr th:only-of-type {\n",
       "        vertical-align: middle;\n",
       "    }\n",
       "\n",
       "    .dataframe tbody tr th {\n",
       "        vertical-align: top;\n",
       "    }\n",
       "\n",
       "    .dataframe thead th {\n",
       "        text-align: right;\n",
       "    }\n",
       "</style>\n",
       "<table border=\"1\" class=\"dataframe\">\n",
       "  <thead>\n",
       "    <tr style=\"text-align: right;\">\n",
       "      <th></th>\n",
       "      <th>hotel</th>\n",
       "      <th>is_canceled</th>\n",
       "      <th>lead_time</th>\n",
       "      <th>arrival_date_year</th>\n",
       "      <th>arrival_date_month</th>\n",
       "      <th>arrival_date_week_number</th>\n",
       "      <th>arrival_date_day_of_month</th>\n",
       "      <th>stays_in_weekend_nights</th>\n",
       "      <th>stays_in_week_nights</th>\n",
       "      <th>adults</th>\n",
       "      <th>...</th>\n",
       "      <th>booking_changes</th>\n",
       "      <th>deposit_type</th>\n",
       "      <th>agent</th>\n",
       "      <th>days_in_waiting_list</th>\n",
       "      <th>customer_type</th>\n",
       "      <th>adr</th>\n",
       "      <th>required_car_parking_spaces</th>\n",
       "      <th>total_of_special_requests</th>\n",
       "      <th>reservation_status</th>\n",
       "      <th>reservation_status_date</th>\n",
       "    </tr>\n",
       "  </thead>\n",
       "  <tbody>\n",
       "    <tr>\n",
       "      <th>14969</th>\n",
       "      <td>Resort Hotel</td>\n",
       "      <td>0</td>\n",
       "      <td>195</td>\n",
       "      <td>2017</td>\n",
       "      <td>March</td>\n",
       "      <td>10</td>\n",
       "      <td>5</td>\n",
       "      <td>4</td>\n",
       "      <td>6</td>\n",
       "      <td>2</td>\n",
       "      <td>...</td>\n",
       "      <td>2</td>\n",
       "      <td>No Deposit</td>\n",
       "      <td>273.0</td>\n",
       "      <td>0</td>\n",
       "      <td>Transient-Party</td>\n",
       "      <td>-6.38</td>\n",
       "      <td>0</td>\n",
       "      <td>0</td>\n",
       "      <td>Check-Out</td>\n",
       "      <td>2017-03-15</td>\n",
       "    </tr>\n",
       "  </tbody>\n",
       "</table>\n",
       "<p>1 rows × 31 columns</p>\n",
       "</div>"
      ],
      "text/plain": [
       "              hotel  is_canceled  lead_time  arrival_date_year  \\\n",
       "14969  Resort Hotel            0        195               2017   \n",
       "\n",
       "      arrival_date_month  arrival_date_week_number  arrival_date_day_of_month  \\\n",
       "14969              March                        10                          5   \n",
       "\n",
       "       stays_in_weekend_nights  stays_in_week_nights  adults  ...  \\\n",
       "14969                        4                     6       2  ...   \n",
       "\n",
       "       booking_changes  deposit_type  agent days_in_waiting_list  \\\n",
       "14969                2    No Deposit  273.0                    0   \n",
       "\n",
       "         customer_type   adr  required_car_parking_spaces  \\\n",
       "14969  Transient-Party -6.38                            0   \n",
       "\n",
       "       total_of_special_requests  reservation_status reservation_status_date  \n",
       "14969                          0           Check-Out              2017-03-15  \n",
       "\n",
       "[1 rows x 31 columns]"
      ]
     },
     "execution_count": 125,
     "metadata": {},
     "output_type": "execute_result"
    }
   ],
   "source": [
    "# handling adr column as the minium value shows in negative\n",
    "df1[df1.adr<0]"
   ]
  },
  {
   "cell_type": "markdown",
   "id": "6374bae2",
   "metadata": {},
   "source": [
    "The average daily rating(adr) is calculated when the user makes a booking(and maybe checks in) or the revenue made by the hotel on average per booking. So, the adr cannot be less than 0 and this record can be neglected."
   ]
  },
  {
   "cell_type": "code",
   "execution_count": 126,
   "id": "c9c176b7",
   "metadata": {},
   "outputs": [],
   "source": [
    "df1=df1.loc[df1.adr>=0]"
   ]
  },
  {
   "cell_type": "code",
   "execution_count": 127,
   "id": "05415465",
   "metadata": {},
   "outputs": [
    {
     "name": "stdout",
     "output_type": "stream",
     "text": [
      "<class 'pandas.core.frame.DataFrame'>\n",
      "Int64Index: 119230 entries, 0 to 119389\n",
      "Data columns (total 31 columns):\n",
      " #   Column                          Non-Null Count   Dtype         \n",
      "---  ------                          --------------   -----         \n",
      " 0   hotel                           119230 non-null  object        \n",
      " 1   is_canceled                     119230 non-null  int64         \n",
      " 2   lead_time                       119230 non-null  int64         \n",
      " 3   arrival_date_year               119230 non-null  int64         \n",
      " 4   arrival_date_month              119230 non-null  object        \n",
      " 5   arrival_date_week_number        119230 non-null  int64         \n",
      " 6   arrival_date_day_of_month       119230 non-null  int64         \n",
      " 7   stays_in_weekend_nights         119230 non-null  int64         \n",
      " 8   stays_in_week_nights            119230 non-null  int64         \n",
      " 9   adults                          119230 non-null  int64         \n",
      " 10  children                        119230 non-null  float64       \n",
      " 11  babies                          119230 non-null  int64         \n",
      " 12  meal                            119230 non-null  object        \n",
      " 13  country                         119230 non-null  object        \n",
      " 14  market_segment                  119230 non-null  object        \n",
      " 15  distribution_channel            119230 non-null  object        \n",
      " 16  is_repeated_guest               119230 non-null  int64         \n",
      " 17  previous_cancellations          119230 non-null  int64         \n",
      " 18  previous_bookings_not_canceled  119230 non-null  int64         \n",
      " 19  reserved_room_type              119230 non-null  object        \n",
      " 20  assigned_room_type              119230 non-null  object        \n",
      " 21  booking_changes                 119230 non-null  int64         \n",
      " 22  deposit_type                    119230 non-null  object        \n",
      " 23  agent                           119230 non-null  float64       \n",
      " 24  days_in_waiting_list            119230 non-null  int64         \n",
      " 25  customer_type                   119230 non-null  object        \n",
      " 26  adr                             119230 non-null  float64       \n",
      " 27  required_car_parking_spaces     119230 non-null  int64         \n",
      " 28  total_of_special_requests       119230 non-null  int64         \n",
      " 29  reservation_status              119230 non-null  object        \n",
      " 30  reservation_status_date         119230 non-null  datetime64[ns]\n",
      "dtypes: datetime64[ns](1), float64(3), int64(16), object(11)\n",
      "memory usage: 29.1+ MB\n"
     ]
    }
   ],
   "source": [
    "# fixing data types if any\n",
    "df1.info()"
   ]
  },
  {
   "cell_type": "code",
   "execution_count": 128,
   "id": "4c667007",
   "metadata": {},
   "outputs": [],
   "source": [
    "# function that will change datatype of a column to another\n",
    "def change_dtype(df, col_name, type_to_convert):\n",
    "    df[col_name] = df[col_name].astype(type_to_convert)"
   ]
  },
  {
   "cell_type": "code",
   "execution_count": 129,
   "id": "122a1bf5",
   "metadata": {},
   "outputs": [],
   "source": [
    "# fixing object type columns\n",
    "obj_cols_to_change_types = ['hotel', 'is_canceled', 'meal', 'country', 'market_segment', 'distribution_channel', \n",
    "                            'deposit_type', 'customer_type', 'reservation_status', 'assigned_room_type', \n",
    "                            'reserved_room_type',]\n",
    "for i in obj_cols_to_change_types:\n",
    "    change_dtype(df1, i, 'category')"
   ]
  },
  {
   "cell_type": "code",
   "execution_count": 130,
   "id": "4c22ee0e",
   "metadata": {},
   "outputs": [],
   "source": [
    "change_dtype(df1, 'arrival_date_month', 'category')"
   ]
  },
  {
   "cell_type": "code",
   "execution_count": 131,
   "id": "d1b7ddcb",
   "metadata": {},
   "outputs": [
    {
     "name": "stdout",
     "output_type": "stream",
     "text": [
      "<class 'pandas.core.frame.DataFrame'>\n",
      "Int64Index: 119230 entries, 0 to 119389\n",
      "Data columns (total 31 columns):\n",
      " #   Column                          Non-Null Count   Dtype         \n",
      "---  ------                          --------------   -----         \n",
      " 0   hotel                           119230 non-null  category      \n",
      " 1   is_canceled                     119230 non-null  category      \n",
      " 2   lead_time                       119230 non-null  int64         \n",
      " 3   arrival_date_year               119230 non-null  int64         \n",
      " 4   arrival_date_month              119230 non-null  category      \n",
      " 5   arrival_date_week_number        119230 non-null  int64         \n",
      " 6   arrival_date_day_of_month       119230 non-null  int64         \n",
      " 7   stays_in_weekend_nights         119230 non-null  int64         \n",
      " 8   stays_in_week_nights            119230 non-null  int64         \n",
      " 9   adults                          119230 non-null  int64         \n",
      " 10  children                        119230 non-null  float64       \n",
      " 11  babies                          119230 non-null  int64         \n",
      " 12  meal                            119230 non-null  category      \n",
      " 13  country                         119230 non-null  category      \n",
      " 14  market_segment                  119230 non-null  category      \n",
      " 15  distribution_channel            119230 non-null  category      \n",
      " 16  is_repeated_guest               119230 non-null  int64         \n",
      " 17  previous_cancellations          119230 non-null  int64         \n",
      " 18  previous_bookings_not_canceled  119230 non-null  int64         \n",
      " 19  reserved_room_type              119230 non-null  category      \n",
      " 20  assigned_room_type              119230 non-null  category      \n",
      " 21  booking_changes                 119230 non-null  int64         \n",
      " 22  deposit_type                    119230 non-null  category      \n",
      " 23  agent                           119230 non-null  float64       \n",
      " 24  days_in_waiting_list            119230 non-null  int64         \n",
      " 25  customer_type                   119230 non-null  category      \n",
      " 26  adr                             119230 non-null  float64       \n",
      " 27  required_car_parking_spaces     119230 non-null  int64         \n",
      " 28  total_of_special_requests       119230 non-null  int64         \n",
      " 29  reservation_status              119230 non-null  category      \n",
      " 30  reservation_status_date         119230 non-null  datetime64[ns]\n",
      "dtypes: category(12), datetime64[ns](1), float64(3), int64(15)\n",
      "memory usage: 19.7 MB\n"
     ]
    }
   ],
   "source": [
    "# if you are wondering why to change datatypes?\n",
    "# check the memory in the above 'df1.info' output and this one's.\n",
    "df1.info()"
   ]
  },
  {
   "cell_type": "code",
   "execution_count": 132,
   "id": "fd8ab2f7",
   "metadata": {},
   "outputs": [
    {
     "data": {
      "text/html": [
       "<div>\n",
       "<style scoped>\n",
       "    .dataframe tbody tr th:only-of-type {\n",
       "        vertical-align: middle;\n",
       "    }\n",
       "\n",
       "    .dataframe tbody tr th {\n",
       "        vertical-align: top;\n",
       "    }\n",
       "\n",
       "    .dataframe thead th {\n",
       "        text-align: right;\n",
       "    }\n",
       "</style>\n",
       "<table border=\"1\" class=\"dataframe\">\n",
       "  <thead>\n",
       "    <tr style=\"text-align: right;\">\n",
       "      <th></th>\n",
       "      <th>count</th>\n",
       "      <th>mean</th>\n",
       "      <th>std</th>\n",
       "      <th>min</th>\n",
       "      <th>25%</th>\n",
       "      <th>50%</th>\n",
       "      <th>75%</th>\n",
       "      <th>max</th>\n",
       "    </tr>\n",
       "  </thead>\n",
       "  <tbody>\n",
       "    <tr>\n",
       "      <th>lead_time</th>\n",
       "      <td>119230.0</td>\n",
       "      <td>104.106517</td>\n",
       "      <td>106.880056</td>\n",
       "      <td>0.0</td>\n",
       "      <td>18.0</td>\n",
       "      <td>69.00</td>\n",
       "      <td>161.0</td>\n",
       "      <td>737.0</td>\n",
       "    </tr>\n",
       "    <tr>\n",
       "      <th>arrival_date_year</th>\n",
       "      <td>119230.0</td>\n",
       "      <td>2016.156555</td>\n",
       "      <td>0.707446</td>\n",
       "      <td>2015.0</td>\n",
       "      <td>2016.0</td>\n",
       "      <td>2016.00</td>\n",
       "      <td>2017.0</td>\n",
       "      <td>2017.0</td>\n",
       "    </tr>\n",
       "    <tr>\n",
       "      <th>arrival_date_week_number</th>\n",
       "      <td>119230.0</td>\n",
       "      <td>27.163004</td>\n",
       "      <td>13.601492</td>\n",
       "      <td>1.0</td>\n",
       "      <td>16.0</td>\n",
       "      <td>28.00</td>\n",
       "      <td>38.0</td>\n",
       "      <td>53.0</td>\n",
       "    </tr>\n",
       "    <tr>\n",
       "      <th>arrival_date_day_of_month</th>\n",
       "      <td>119230.0</td>\n",
       "      <td>15.798138</td>\n",
       "      <td>8.780809</td>\n",
       "      <td>1.0</td>\n",
       "      <td>8.0</td>\n",
       "      <td>16.00</td>\n",
       "      <td>23.0</td>\n",
       "      <td>31.0</td>\n",
       "    </tr>\n",
       "    <tr>\n",
       "      <th>stays_in_weekend_nights</th>\n",
       "      <td>119230.0</td>\n",
       "      <td>0.927007</td>\n",
       "      <td>0.995118</td>\n",
       "      <td>0.0</td>\n",
       "      <td>0.0</td>\n",
       "      <td>1.00</td>\n",
       "      <td>2.0</td>\n",
       "      <td>19.0</td>\n",
       "    </tr>\n",
       "    <tr>\n",
       "      <th>stays_in_week_nights</th>\n",
       "      <td>119230.0</td>\n",
       "      <td>2.499035</td>\n",
       "      <td>1.897263</td>\n",
       "      <td>0.0</td>\n",
       "      <td>1.0</td>\n",
       "      <td>2.00</td>\n",
       "      <td>3.0</td>\n",
       "      <td>50.0</td>\n",
       "    </tr>\n",
       "    <tr>\n",
       "      <th>adults</th>\n",
       "      <td>119230.0</td>\n",
       "      <td>1.858802</td>\n",
       "      <td>0.575757</td>\n",
       "      <td>0.0</td>\n",
       "      <td>2.0</td>\n",
       "      <td>2.00</td>\n",
       "      <td>2.0</td>\n",
       "      <td>55.0</td>\n",
       "    </tr>\n",
       "    <tr>\n",
       "      <th>children</th>\n",
       "      <td>119230.0</td>\n",
       "      <td>0.104026</td>\n",
       "      <td>0.398804</td>\n",
       "      <td>0.0</td>\n",
       "      <td>0.0</td>\n",
       "      <td>0.00</td>\n",
       "      <td>0.0</td>\n",
       "      <td>10.0</td>\n",
       "    </tr>\n",
       "    <tr>\n",
       "      <th>babies</th>\n",
       "      <td>119230.0</td>\n",
       "      <td>0.007959</td>\n",
       "      <td>0.097501</td>\n",
       "      <td>0.0</td>\n",
       "      <td>0.0</td>\n",
       "      <td>0.00</td>\n",
       "      <td>0.0</td>\n",
       "      <td>10.0</td>\n",
       "    </tr>\n",
       "    <tr>\n",
       "      <th>is_repeated_guest</th>\n",
       "      <td>119230.0</td>\n",
       "      <td>0.031502</td>\n",
       "      <td>0.174671</td>\n",
       "      <td>0.0</td>\n",
       "      <td>0.0</td>\n",
       "      <td>0.00</td>\n",
       "      <td>0.0</td>\n",
       "      <td>1.0</td>\n",
       "    </tr>\n",
       "    <tr>\n",
       "      <th>previous_cancellations</th>\n",
       "      <td>119230.0</td>\n",
       "      <td>0.087193</td>\n",
       "      <td>0.844856</td>\n",
       "      <td>0.0</td>\n",
       "      <td>0.0</td>\n",
       "      <td>0.00</td>\n",
       "      <td>0.0</td>\n",
       "      <td>26.0</td>\n",
       "    </tr>\n",
       "    <tr>\n",
       "      <th>previous_bookings_not_canceled</th>\n",
       "      <td>119230.0</td>\n",
       "      <td>0.137054</td>\n",
       "      <td>1.498003</td>\n",
       "      <td>0.0</td>\n",
       "      <td>0.0</td>\n",
       "      <td>0.00</td>\n",
       "      <td>0.0</td>\n",
       "      <td>72.0</td>\n",
       "    </tr>\n",
       "    <tr>\n",
       "      <th>booking_changes</th>\n",
       "      <td>119230.0</td>\n",
       "      <td>0.218770</td>\n",
       "      <td>0.638448</td>\n",
       "      <td>0.0</td>\n",
       "      <td>0.0</td>\n",
       "      <td>0.00</td>\n",
       "      <td>0.0</td>\n",
       "      <td>18.0</td>\n",
       "    </tr>\n",
       "    <tr>\n",
       "      <th>agent</th>\n",
       "      <td>119230.0</td>\n",
       "      <td>76.106953</td>\n",
       "      <td>106.345230</td>\n",
       "      <td>1.0</td>\n",
       "      <td>9.0</td>\n",
       "      <td>9.00</td>\n",
       "      <td>152.0</td>\n",
       "      <td>535.0</td>\n",
       "    </tr>\n",
       "    <tr>\n",
       "      <th>days_in_waiting_list</th>\n",
       "      <td>119230.0</td>\n",
       "      <td>2.320825</td>\n",
       "      <td>17.596552</td>\n",
       "      <td>0.0</td>\n",
       "      <td>0.0</td>\n",
       "      <td>0.00</td>\n",
       "      <td>0.0</td>\n",
       "      <td>391.0</td>\n",
       "    </tr>\n",
       "    <tr>\n",
       "      <th>adr</th>\n",
       "      <td>119230.0</td>\n",
       "      <td>101.951047</td>\n",
       "      <td>50.448423</td>\n",
       "      <td>0.0</td>\n",
       "      <td>69.5</td>\n",
       "      <td>94.91</td>\n",
       "      <td>126.0</td>\n",
       "      <td>5400.0</td>\n",
       "    </tr>\n",
       "    <tr>\n",
       "      <th>required_car_parking_spaces</th>\n",
       "      <td>119230.0</td>\n",
       "      <td>0.062543</td>\n",
       "      <td>0.245340</td>\n",
       "      <td>0.0</td>\n",
       "      <td>0.0</td>\n",
       "      <td>0.00</td>\n",
       "      <td>0.0</td>\n",
       "      <td>8.0</td>\n",
       "    </tr>\n",
       "    <tr>\n",
       "      <th>total_of_special_requests</th>\n",
       "      <td>119230.0</td>\n",
       "      <td>0.571408</td>\n",
       "      <td>0.792865</td>\n",
       "      <td>0.0</td>\n",
       "      <td>0.0</td>\n",
       "      <td>0.00</td>\n",
       "      <td>1.0</td>\n",
       "      <td>5.0</td>\n",
       "    </tr>\n",
       "  </tbody>\n",
       "</table>\n",
       "</div>"
      ],
      "text/plain": [
       "                                   count         mean         std     min  \\\n",
       "lead_time                       119230.0   104.106517  106.880056     0.0   \n",
       "arrival_date_year               119230.0  2016.156555    0.707446  2015.0   \n",
       "arrival_date_week_number        119230.0    27.163004   13.601492     1.0   \n",
       "arrival_date_day_of_month       119230.0    15.798138    8.780809     1.0   \n",
       "stays_in_weekend_nights         119230.0     0.927007    0.995118     0.0   \n",
       "stays_in_week_nights            119230.0     2.499035    1.897263     0.0   \n",
       "adults                          119230.0     1.858802    0.575757     0.0   \n",
       "children                        119230.0     0.104026    0.398804     0.0   \n",
       "babies                          119230.0     0.007959    0.097501     0.0   \n",
       "is_repeated_guest               119230.0     0.031502    0.174671     0.0   \n",
       "previous_cancellations          119230.0     0.087193    0.844856     0.0   \n",
       "previous_bookings_not_canceled  119230.0     0.137054    1.498003     0.0   \n",
       "booking_changes                 119230.0     0.218770    0.638448     0.0   \n",
       "agent                           119230.0    76.106953  106.345230     1.0   \n",
       "days_in_waiting_list            119230.0     2.320825   17.596552     0.0   \n",
       "adr                             119230.0   101.951047   50.448423     0.0   \n",
       "required_car_parking_spaces     119230.0     0.062543    0.245340     0.0   \n",
       "total_of_special_requests       119230.0     0.571408    0.792865     0.0   \n",
       "\n",
       "                                   25%      50%     75%     max  \n",
       "lead_time                         18.0    69.00   161.0   737.0  \n",
       "arrival_date_year               2016.0  2016.00  2017.0  2017.0  \n",
       "arrival_date_week_number          16.0    28.00    38.0    53.0  \n",
       "arrival_date_day_of_month          8.0    16.00    23.0    31.0  \n",
       "stays_in_weekend_nights            0.0     1.00     2.0    19.0  \n",
       "stays_in_week_nights               1.0     2.00     3.0    50.0  \n",
       "adults                             2.0     2.00     2.0    55.0  \n",
       "children                           0.0     0.00     0.0    10.0  \n",
       "babies                             0.0     0.00     0.0    10.0  \n",
       "is_repeated_guest                  0.0     0.00     0.0     1.0  \n",
       "previous_cancellations             0.0     0.00     0.0    26.0  \n",
       "previous_bookings_not_canceled     0.0     0.00     0.0    72.0  \n",
       "booking_changes                    0.0     0.00     0.0    18.0  \n",
       "agent                              9.0     9.00   152.0   535.0  \n",
       "days_in_waiting_list               0.0     0.00     0.0   391.0  \n",
       "adr                               69.5    94.91   126.0  5400.0  \n",
       "required_car_parking_spaces        0.0     0.00     0.0     8.0  \n",
       "total_of_special_requests          0.0     0.00     1.0     5.0  "
      ]
     },
     "execution_count": 132,
     "metadata": {},
     "output_type": "execute_result"
    }
   ],
   "source": [
    "df1.describe().T"
   ]
  },
  {
   "cell_type": "markdown",
   "id": "17a2b1e0",
   "metadata": {},
   "source": [
    "Alot of outliers can be seen in the above table. Let's check distribution."
   ]
  },
  {
   "cell_type": "code",
   "execution_count": 133,
   "id": "3fd60de9",
   "metadata": {},
   "outputs": [
    {
     "name": "stdout",
     "output_type": "stream",
     "text": [
      "AxesSubplot(0.125,0.125;0.775x0.755)\n"
     ]
    },
    {
     "data": {
      "image/png": "[encoded data removed]",
      "text/plain": [
       "<Figure size 432x288 with 1 Axes>"
      ]
     },
     "metadata": {
      "needs_background": "light"
     },
     "output_type": "display_data"
    },
    {
     "name": "stdout",
     "output_type": "stream",
     "text": [
      "AxesSubplot(0.125,0.125;0.775x0.755)\n"
     ]
    },
    {
     "data": {
      "image/png": "[encoded data removed]",
      "text/plain": [
       "<Figure size 432x288 with 1 Axes>"
      ]
     },
     "metadata": {
      "needs_background": "light"
     },
     "output_type": "display_data"
    },
    {
     "name": "stdout",
     "output_type": "stream",
     "text": [
      "AxesSubplot(0.125,0.125;0.775x0.755)\n"
     ]
    },
    {
     "data": {
      "image/png": "[encoded data removed]",
      "text/plain": [
       "<Figure size 432x288 with 1 Axes>"
      ]
     },
     "metadata": {
      "needs_background": "light"
     },
     "output_type": "display_data"
    },
    {
     "name": "stdout",
     "output_type": "stream",
     "text": [
      "AxesSubplot(0.125,0.125;0.775x0.755)\n"
     ]
    },
    {
     "data": {
      "image/png": "[encoded data removed]",
      "text/plain": [
       "<Figure size 432x288 with 1 Axes>"
      ]
     },
     "metadata": {
      "needs_background": "light"
     },
     "output_type": "display_data"
    },
    {
     "name": "stdout",
     "output_type": "stream",
     "text": [
      "AxesSubplot(0.125,0.125;0.775x0.755)\n"
     ]
    },
    {
     "data": {
      "image/png": "[encoded data removed]",
      "text/plain": [
       "<Figure size 432x288 with 1 Axes>"
      ]
     },
     "metadata": {
      "needs_background": "light"
     },
     "output_type": "display_data"
    },
    {
     "name": "stdout",
     "output_type": "stream",
     "text": [
      "AxesSubplot(0.125,0.125;0.775x0.755)\n"
     ]
    },
    {
     "data": {
      "image/png": "[encoded data removed]",
      "text/plain": [
       "<Figure size 432x288 with 1 Axes>"
      ]
     },
     "metadata": {
      "needs_background": "light"
     },
     "output_type": "display_data"
    },
    {
     "name": "stdout",
     "output_type": "stream",
     "text": [
      "AxesSubplot(0.125,0.125;0.775x0.755)\n"
     ]
    },
    {
     "data": {
      "image/png": "[encoded data removed]",
      "text/plain": [
       "<Figure size 432x288 with 1 Axes>"
      ]
     },
     "metadata": {
      "needs_background": "light"
     },
     "output_type": "display_data"
    },
    {
     "name": "stdout",
     "output_type": "stream",
     "text": [
      "AxesSubplot(0.125,0.125;0.775x0.755)\n"
     ]
    },
    {
     "data": {
      "image/png": "[encoded data removed]",
      "text/plain": [
       "<Figure size 432x288 with 1 Axes>"
      ]
     },
     "metadata": {
      "needs_background": "light"
     },
     "output_type": "display_data"
    },
    {
     "name": "stdout",
     "output_type": "stream",
     "text": [
      "AxesSubplot(0.125,0.125;0.775x0.755)\n"
     ]
    },
    {
     "data": {
      "image/png": "[encoded data removed]",
      "text/plain": [
       "<Figure size 432x288 with 1 Axes>"
      ]
     },
     "metadata": {
      "needs_background": "light"
     },
     "output_type": "display_data"
    }
   ],
   "source": [
    "# all numerical columns distribution\n",
    "cols=df1.describe().columns.to_list()\n",
    "for i in cols:\n",
    "    # only columns having more than 20 unique categories (Continuous variable)\n",
    "    if df[i].nunique()>20:\n",
    "        print(df1[i].hist())\n",
    "        plt.title(i)\n",
    "        plt.show()"
   ]
  },
  {
   "cell_type": "markdown",
   "id": "01284862",
   "metadata": {},
   "source": [
    "### Handling Outliers"
   ]
  },
  {
   "cell_type": "code",
   "execution_count": 156,
   "id": "637a26d1",
   "metadata": {},
   "outputs": [],
   "source": [
    "df1.loc[df1.lead_time>600, 'lead_time']=500"
   ]
  },
  {
   "cell_type": "code",
   "execution_count": 168,
   "id": "cad71011",
   "metadata": {},
   "outputs": [
    {
     "data": {
      "text/plain": [
       "103.85033967961084"
      ]
     },
     "execution_count": 168,
     "metadata": {},
     "output_type": "execute_result"
    }
   ],
   "source": [
    "df1.lead_time.mean()"
   ]
  },
  {
   "cell_type": "code",
   "execution_count": 151,
   "id": "b26cf143",
   "metadata": {},
   "outputs": [],
   "source": [
    "# similar way other can be handled\n",
    "df1.loc[df1['stays_in_week_nights']>15, 'stays_in_week_nights']=10"
   ]
  },
  {
   "cell_type": "code",
   "execution_count": 167,
   "id": "48d00cb6",
   "metadata": {},
   "outputs": [],
   "source": [
    "df1.loc[df1.days_in_waiting_list>100, 'days_in_waiting_list']=int(df1.days_in_waiting_list.mean())"
   ]
  },
  {
   "cell_type": "code",
   "execution_count": 174,
   "id": "96a08c78",
   "metadata": {},
   "outputs": [],
   "source": [
    "df1.loc[df1.adr>500, 'adr'] = 500"
   ]
  },
  {
   "cell_type": "code",
   "execution_count": 176,
   "id": "45eb1450",
   "metadata": {},
   "outputs": [
    {
     "data": {
      "text/html": [
       "<div>\n",
       "<style scoped>\n",
       "    .dataframe tbody tr th:only-of-type {\n",
       "        vertical-align: middle;\n",
       "    }\n",
       "\n",
       "    .dataframe tbody tr th {\n",
       "        vertical-align: top;\n",
       "    }\n",
       "\n",
       "    .dataframe thead th {\n",
       "        text-align: right;\n",
       "    }\n",
       "</style>\n",
       "<table border=\"1\" class=\"dataframe\">\n",
       "  <thead>\n",
       "    <tr style=\"text-align: right;\">\n",
       "      <th></th>\n",
       "      <th>count</th>\n",
       "      <th>mean</th>\n",
       "      <th>std</th>\n",
       "      <th>min</th>\n",
       "      <th>25%</th>\n",
       "      <th>50%</th>\n",
       "      <th>75%</th>\n",
       "      <th>max</th>\n",
       "    </tr>\n",
       "  </thead>\n",
       "  <tbody>\n",
       "    <tr>\n",
       "      <th>lead_time</th>\n",
       "      <td>119230.0</td>\n",
       "      <td>103.850340</td>\n",
       "      <td>105.813931</td>\n",
       "      <td>0.0</td>\n",
       "      <td>18.0</td>\n",
       "      <td>69.00</td>\n",
       "      <td>161.0</td>\n",
       "      <td>500.0</td>\n",
       "    </tr>\n",
       "    <tr>\n",
       "      <th>arrival_date_year</th>\n",
       "      <td>119230.0</td>\n",
       "      <td>2016.156555</td>\n",
       "      <td>0.707446</td>\n",
       "      <td>2015.0</td>\n",
       "      <td>2016.0</td>\n",
       "      <td>2016.00</td>\n",
       "      <td>2017.0</td>\n",
       "      <td>2017.0</td>\n",
       "    </tr>\n",
       "    <tr>\n",
       "      <th>arrival_date_week_number</th>\n",
       "      <td>119230.0</td>\n",
       "      <td>27.163004</td>\n",
       "      <td>13.601492</td>\n",
       "      <td>1.0</td>\n",
       "      <td>16.0</td>\n",
       "      <td>28.00</td>\n",
       "      <td>38.0</td>\n",
       "      <td>53.0</td>\n",
       "    </tr>\n",
       "    <tr>\n",
       "      <th>arrival_date_day_of_month</th>\n",
       "      <td>119230.0</td>\n",
       "      <td>15.798138</td>\n",
       "      <td>8.780809</td>\n",
       "      <td>1.0</td>\n",
       "      <td>8.0</td>\n",
       "      <td>16.00</td>\n",
       "      <td>23.0</td>\n",
       "      <td>31.0</td>\n",
       "    </tr>\n",
       "    <tr>\n",
       "      <th>stays_in_weekend_nights</th>\n",
       "      <td>119230.0</td>\n",
       "      <td>0.927007</td>\n",
       "      <td>0.995118</td>\n",
       "      <td>0.0</td>\n",
       "      <td>0.0</td>\n",
       "      <td>1.00</td>\n",
       "      <td>2.0</td>\n",
       "      <td>19.0</td>\n",
       "    </tr>\n",
       "    <tr>\n",
       "      <th>stays_in_week_nights</th>\n",
       "      <td>119230.0</td>\n",
       "      <td>2.485440</td>\n",
       "      <td>1.793938</td>\n",
       "      <td>0.0</td>\n",
       "      <td>1.0</td>\n",
       "      <td>2.00</td>\n",
       "      <td>3.0</td>\n",
       "      <td>15.0</td>\n",
       "    </tr>\n",
       "    <tr>\n",
       "      <th>adults</th>\n",
       "      <td>119230.0</td>\n",
       "      <td>1.858802</td>\n",
       "      <td>0.575757</td>\n",
       "      <td>0.0</td>\n",
       "      <td>2.0</td>\n",
       "      <td>2.00</td>\n",
       "      <td>2.0</td>\n",
       "      <td>55.0</td>\n",
       "    </tr>\n",
       "    <tr>\n",
       "      <th>children</th>\n",
       "      <td>119230.0</td>\n",
       "      <td>0.104026</td>\n",
       "      <td>0.398804</td>\n",
       "      <td>0.0</td>\n",
       "      <td>0.0</td>\n",
       "      <td>0.00</td>\n",
       "      <td>0.0</td>\n",
       "      <td>10.0</td>\n",
       "    </tr>\n",
       "    <tr>\n",
       "      <th>babies</th>\n",
       "      <td>119230.0</td>\n",
       "      <td>0.007959</td>\n",
       "      <td>0.097501</td>\n",
       "      <td>0.0</td>\n",
       "      <td>0.0</td>\n",
       "      <td>0.00</td>\n",
       "      <td>0.0</td>\n",
       "      <td>10.0</td>\n",
       "    </tr>\n",
       "    <tr>\n",
       "      <th>is_repeated_guest</th>\n",
       "      <td>119230.0</td>\n",
       "      <td>0.031502</td>\n",
       "      <td>0.174671</td>\n",
       "      <td>0.0</td>\n",
       "      <td>0.0</td>\n",
       "      <td>0.00</td>\n",
       "      <td>0.0</td>\n",
       "      <td>1.0</td>\n",
       "    </tr>\n",
       "    <tr>\n",
       "      <th>previous_cancellations</th>\n",
       "      <td>119230.0</td>\n",
       "      <td>0.087193</td>\n",
       "      <td>0.844856</td>\n",
       "      <td>0.0</td>\n",
       "      <td>0.0</td>\n",
       "      <td>0.00</td>\n",
       "      <td>0.0</td>\n",
       "      <td>26.0</td>\n",
       "    </tr>\n",
       "    <tr>\n",
       "      <th>previous_bookings_not_canceled</th>\n",
       "      <td>119230.0</td>\n",
       "      <td>0.137054</td>\n",
       "      <td>1.498003</td>\n",
       "      <td>0.0</td>\n",
       "      <td>0.0</td>\n",
       "      <td>0.00</td>\n",
       "      <td>0.0</td>\n",
       "      <td>72.0</td>\n",
       "    </tr>\n",
       "    <tr>\n",
       "      <th>booking_changes</th>\n",
       "      <td>119230.0</td>\n",
       "      <td>0.218770</td>\n",
       "      <td>0.638448</td>\n",
       "      <td>0.0</td>\n",
       "      <td>0.0</td>\n",
       "      <td>0.00</td>\n",
       "      <td>0.0</td>\n",
       "      <td>18.0</td>\n",
       "    </tr>\n",
       "    <tr>\n",
       "      <th>agent</th>\n",
       "      <td>119230.0</td>\n",
       "      <td>76.106953</td>\n",
       "      <td>106.345230</td>\n",
       "      <td>1.0</td>\n",
       "      <td>9.0</td>\n",
       "      <td>9.00</td>\n",
       "      <td>152.0</td>\n",
       "      <td>535.0</td>\n",
       "    </tr>\n",
       "    <tr>\n",
       "      <th>days_in_waiting_list</th>\n",
       "      <td>119230.0</td>\n",
       "      <td>1.200168</td>\n",
       "      <td>8.341857</td>\n",
       "      <td>0.0</td>\n",
       "      <td>0.0</td>\n",
       "      <td>0.00</td>\n",
       "      <td>0.0</td>\n",
       "      <td>100.0</td>\n",
       "    </tr>\n",
       "    <tr>\n",
       "      <th>adr</th>\n",
       "      <td>119230.0</td>\n",
       "      <td>101.909799</td>\n",
       "      <td>48.071046</td>\n",
       "      <td>0.0</td>\n",
       "      <td>69.5</td>\n",
       "      <td>94.91</td>\n",
       "      <td>126.0</td>\n",
       "      <td>500.0</td>\n",
       "    </tr>\n",
       "    <tr>\n",
       "      <th>required_car_parking_spaces</th>\n",
       "      <td>119230.0</td>\n",
       "      <td>0.062543</td>\n",
       "      <td>0.245340</td>\n",
       "      <td>0.0</td>\n",
       "      <td>0.0</td>\n",
       "      <td>0.00</td>\n",
       "      <td>0.0</td>\n",
       "      <td>8.0</td>\n",
       "    </tr>\n",
       "    <tr>\n",
       "      <th>total_of_special_requests</th>\n",
       "      <td>119230.0</td>\n",
       "      <td>0.571408</td>\n",
       "      <td>0.792865</td>\n",
       "      <td>0.0</td>\n",
       "      <td>0.0</td>\n",
       "      <td>0.00</td>\n",
       "      <td>1.0</td>\n",
       "      <td>5.0</td>\n",
       "    </tr>\n",
       "  </tbody>\n",
       "</table>\n",
       "</div>"
      ],
      "text/plain": [
       "                                   count         mean         std     min  \\\n",
       "lead_time                       119230.0   103.850340  105.813931     0.0   \n",
       "arrival_date_year               119230.0  2016.156555    0.707446  2015.0   \n",
       "arrival_date_week_number        119230.0    27.163004   13.601492     1.0   \n",
       "arrival_date_day_of_month       119230.0    15.798138    8.780809     1.0   \n",
       "stays_in_weekend_nights         119230.0     0.927007    0.995118     0.0   \n",
       "stays_in_week_nights            119230.0     2.485440    1.793938     0.0   \n",
       "adults                          119230.0     1.858802    0.575757     0.0   \n",
       "children                        119230.0     0.104026    0.398804     0.0   \n",
       "babies                          119230.0     0.007959    0.097501     0.0   \n",
       "is_repeated_guest               119230.0     0.031502    0.174671     0.0   \n",
       "previous_cancellations          119230.0     0.087193    0.844856     0.0   \n",
       "previous_bookings_not_canceled  119230.0     0.137054    1.498003     0.0   \n",
       "booking_changes                 119230.0     0.218770    0.638448     0.0   \n",
       "agent                           119230.0    76.106953  106.345230     1.0   \n",
       "days_in_waiting_list            119230.0     1.200168    8.341857     0.0   \n",
       "adr                             119230.0   101.909799   48.071046     0.0   \n",
       "required_car_parking_spaces     119230.0     0.062543    0.245340     0.0   \n",
       "total_of_special_requests       119230.0     0.571408    0.792865     0.0   \n",
       "\n",
       "                                   25%      50%     75%     max  \n",
       "lead_time                         18.0    69.00   161.0   500.0  \n",
       "arrival_date_year               2016.0  2016.00  2017.0  2017.0  \n",
       "arrival_date_week_number          16.0    28.00    38.0    53.0  \n",
       "arrival_date_day_of_month          8.0    16.00    23.0    31.0  \n",
       "stays_in_weekend_nights            0.0     1.00     2.0    19.0  \n",
       "stays_in_week_nights               1.0     2.00     3.0    15.0  \n",
       "adults                             2.0     2.00     2.0    55.0  \n",
       "children                           0.0     0.00     0.0    10.0  \n",
       "babies                             0.0     0.00     0.0    10.0  \n",
       "is_repeated_guest                  0.0     0.00     0.0     1.0  \n",
       "previous_cancellations             0.0     0.00     0.0    26.0  \n",
       "previous_bookings_not_canceled     0.0     0.00     0.0    72.0  \n",
       "booking_changes                    0.0     0.00     0.0    18.0  \n",
       "agent                              9.0     9.00   152.0   535.0  \n",
       "days_in_waiting_list               0.0     0.00     0.0   100.0  \n",
       "adr                               69.5    94.91   126.0   500.0  \n",
       "required_car_parking_spaces        0.0     0.00     0.0     8.0  \n",
       "total_of_special_requests          0.0     0.00     1.0     5.0  "
      ]
     },
     "execution_count": 176,
     "metadata": {},
     "output_type": "execute_result"
    }
   ],
   "source": [
    "df1.describe().transpose()"
   ]
  },
  {
   "cell_type": "markdown",
   "id": "f95a3945",
   "metadata": {},
   "source": [
    "## Data Visualization"
   ]
  },
  {
   "cell_type": "code",
   "execution_count": 177,
   "id": "b7922b76",
   "metadata": {
    "scrolled": true
   },
   "outputs": [
    {
     "data": {
      "text/plain": [
       "<AxesSubplot:>"
      ]
     },
     "execution_count": 177,
     "metadata": {},
     "output_type": "execute_result"
    },
    {
     "data": {
      "image/png": "[encoded data removed]",
      "text/plain": [
       "<Figure size 1008x576 with 2 Axes>"
      ]
     },
     "metadata": {
      "needs_background": "light"
     },
     "output_type": "display_data"
    }
   ],
   "source": [
    "plt.figure(figsize=(14, 8))\n",
    "\n",
    "# Compute the correlation matrix\n",
    "corr = df1.corr()\n",
    "sns.heatmap(corr, annot=True,cmap='Spectral')"
   ]
  },
  {
   "cell_type": "markdown",
   "id": "89722f99",
   "metadata": {},
   "source": [
    "Stay in week and weekendnights seems to corelate almost 50%. Rest are less than 50%."
   ]
  },
  {
   "cell_type": "code",
   "execution_count": 178,
   "id": "2e807fc1",
   "metadata": {},
   "outputs": [
    {
     "data": {
      "text/html": [
       "<div>\n",
       "<style scoped>\n",
       "    .dataframe tbody tr th:only-of-type {\n",
       "        vertical-align: middle;\n",
       "    }\n",
       "\n",
       "    .dataframe tbody tr th {\n",
       "        vertical-align: top;\n",
       "    }\n",
       "\n",
       "    .dataframe thead th {\n",
       "        text-align: right;\n",
       "    }\n",
       "</style>\n",
       "<table border=\"1\" class=\"dataframe\">\n",
       "  <thead>\n",
       "    <tr style=\"text-align: right;\">\n",
       "      <th></th>\n",
       "      <th>hotel</th>\n",
       "      <th>is_canceled</th>\n",
       "      <th>lead_time</th>\n",
       "      <th>arrival_date_year</th>\n",
       "      <th>arrival_date_month</th>\n",
       "      <th>arrival_date_week_number</th>\n",
       "      <th>arrival_date_day_of_month</th>\n",
       "      <th>stays_in_weekend_nights</th>\n",
       "      <th>stays_in_week_nights</th>\n",
       "      <th>adults</th>\n",
       "      <th>...</th>\n",
       "      <th>booking_changes</th>\n",
       "      <th>deposit_type</th>\n",
       "      <th>agent</th>\n",
       "      <th>days_in_waiting_list</th>\n",
       "      <th>customer_type</th>\n",
       "      <th>adr</th>\n",
       "      <th>required_car_parking_spaces</th>\n",
       "      <th>total_of_special_requests</th>\n",
       "      <th>reservation_status</th>\n",
       "      <th>reservation_status_date</th>\n",
       "    </tr>\n",
       "  </thead>\n",
       "  <tbody>\n",
       "    <tr>\n",
       "      <th>0</th>\n",
       "      <td>Resort Hotel</td>\n",
       "      <td>0</td>\n",
       "      <td>342</td>\n",
       "      <td>2015</td>\n",
       "      <td>July</td>\n",
       "      <td>27</td>\n",
       "      <td>1</td>\n",
       "      <td>0</td>\n",
       "      <td>0</td>\n",
       "      <td>2</td>\n",
       "      <td>...</td>\n",
       "      <td>3</td>\n",
       "      <td>No Deposit</td>\n",
       "      <td>9.0</td>\n",
       "      <td>0</td>\n",
       "      <td>Transient</td>\n",
       "      <td>0.0</td>\n",
       "      <td>0</td>\n",
       "      <td>0</td>\n",
       "      <td>Check-Out</td>\n",
       "      <td>2015-07-01</td>\n",
       "    </tr>\n",
       "    <tr>\n",
       "      <th>1</th>\n",
       "      <td>Resort Hotel</td>\n",
       "      <td>0</td>\n",
       "      <td>500</td>\n",
       "      <td>2015</td>\n",
       "      <td>July</td>\n",
       "      <td>27</td>\n",
       "      <td>1</td>\n",
       "      <td>0</td>\n",
       "      <td>0</td>\n",
       "      <td>2</td>\n",
       "      <td>...</td>\n",
       "      <td>4</td>\n",
       "      <td>No Deposit</td>\n",
       "      <td>9.0</td>\n",
       "      <td>0</td>\n",
       "      <td>Transient</td>\n",
       "      <td>0.0</td>\n",
       "      <td>0</td>\n",
       "      <td>0</td>\n",
       "      <td>Check-Out</td>\n",
       "      <td>2015-07-01</td>\n",
       "    </tr>\n",
       "    <tr>\n",
       "      <th>2</th>\n",
       "      <td>Resort Hotel</td>\n",
       "      <td>0</td>\n",
       "      <td>7</td>\n",
       "      <td>2015</td>\n",
       "      <td>July</td>\n",
       "      <td>27</td>\n",
       "      <td>1</td>\n",
       "      <td>0</td>\n",
       "      <td>1</td>\n",
       "      <td>1</td>\n",
       "      <td>...</td>\n",
       "      <td>0</td>\n",
       "      <td>No Deposit</td>\n",
       "      <td>9.0</td>\n",
       "      <td>0</td>\n",
       "      <td>Transient</td>\n",
       "      <td>75.0</td>\n",
       "      <td>0</td>\n",
       "      <td>0</td>\n",
       "      <td>Check-Out</td>\n",
       "      <td>2015-07-02</td>\n",
       "    </tr>\n",
       "    <tr>\n",
       "      <th>3</th>\n",
       "      <td>Resort Hotel</td>\n",
       "      <td>0</td>\n",
       "      <td>13</td>\n",
       "      <td>2015</td>\n",
       "      <td>July</td>\n",
       "      <td>27</td>\n",
       "      <td>1</td>\n",
       "      <td>0</td>\n",
       "      <td>1</td>\n",
       "      <td>1</td>\n",
       "      <td>...</td>\n",
       "      <td>0</td>\n",
       "      <td>No Deposit</td>\n",
       "      <td>304.0</td>\n",
       "      <td>0</td>\n",
       "      <td>Transient</td>\n",
       "      <td>75.0</td>\n",
       "      <td>0</td>\n",
       "      <td>0</td>\n",
       "      <td>Check-Out</td>\n",
       "      <td>2015-07-02</td>\n",
       "    </tr>\n",
       "    <tr>\n",
       "      <th>4</th>\n",
       "      <td>Resort Hotel</td>\n",
       "      <td>0</td>\n",
       "      <td>14</td>\n",
       "      <td>2015</td>\n",
       "      <td>July</td>\n",
       "      <td>27</td>\n",
       "      <td>1</td>\n",
       "      <td>0</td>\n",
       "      <td>2</td>\n",
       "      <td>2</td>\n",
       "      <td>...</td>\n",
       "      <td>0</td>\n",
       "      <td>No Deposit</td>\n",
       "      <td>240.0</td>\n",
       "      <td>0</td>\n",
       "      <td>Transient</td>\n",
       "      <td>98.0</td>\n",
       "      <td>0</td>\n",
       "      <td>1</td>\n",
       "      <td>Check-Out</td>\n",
       "      <td>2015-07-03</td>\n",
       "    </tr>\n",
       "  </tbody>\n",
       "</table>\n",
       "<p>5 rows × 31 columns</p>\n",
       "</div>"
      ],
      "text/plain": [
       "          hotel is_canceled  lead_time  arrival_date_year arrival_date_month  \\\n",
       "0  Resort Hotel           0        342               2015               July   \n",
       "1  Resort Hotel           0        500               2015               July   \n",
       "2  Resort Hotel           0          7               2015               July   \n",
       "3  Resort Hotel           0         13               2015               July   \n",
       "4  Resort Hotel           0         14               2015               July   \n",
       "\n",
       "   arrival_date_week_number  arrival_date_day_of_month  \\\n",
       "0                        27                          1   \n",
       "1                        27                          1   \n",
       "2                        27                          1   \n",
       "3                        27                          1   \n",
       "4                        27                          1   \n",
       "\n",
       "   stays_in_weekend_nights  stays_in_week_nights  adults  ...  \\\n",
       "0                        0                     0       2  ...   \n",
       "1                        0                     0       2  ...   \n",
       "2                        0                     1       1  ...   \n",
       "3                        0                     1       1  ...   \n",
       "4                        0                     2       2  ...   \n",
       "\n",
       "   booking_changes  deposit_type  agent days_in_waiting_list customer_type  \\\n",
       "0                3    No Deposit    9.0                    0     Transient   \n",
       "1                4    No Deposit    9.0                    0     Transient   \n",
       "2                0    No Deposit    9.0                    0     Transient   \n",
       "3                0    No Deposit  304.0                    0     Transient   \n",
       "4                0    No Deposit  240.0                    0     Transient   \n",
       "\n",
       "    adr  required_car_parking_spaces  total_of_special_requests  \\\n",
       "0   0.0                            0                          0   \n",
       "1   0.0                            0                          0   \n",
       "2  75.0                            0                          0   \n",
       "3  75.0                            0                          0   \n",
       "4  98.0                            0                          1   \n",
       "\n",
       "   reservation_status reservation_status_date  \n",
       "0           Check-Out              2015-07-01  \n",
       "1           Check-Out              2015-07-01  \n",
       "2           Check-Out              2015-07-02  \n",
       "3           Check-Out              2015-07-02  \n",
       "4           Check-Out              2015-07-03  \n",
       "\n",
       "[5 rows x 31 columns]"
      ]
     },
     "execution_count": 178,
     "metadata": {},
     "output_type": "execute_result"
    }
   ],
   "source": [
    "df1.head()"
   ]
  },
  {
   "cell_type": "markdown",
   "id": "cdf2fed2",
   "metadata": {},
   "source": [
    "#### Which hotel people prefer the most?"
   ]
  },
  {
   "cell_type": "code",
   "execution_count": 179,
   "id": "58a3fd2e",
   "metadata": {},
   "outputs": [
    {
     "data": {
      "text/plain": [
       "City Hotel      79182\n",
       "Resort Hotel    40048\n",
       "Name: hotel, dtype: int64"
      ]
     },
     "execution_count": 179,
     "metadata": {},
     "output_type": "execute_result"
    }
   ],
   "source": [
    "# overall bookings\n",
    "df1['hotel'].value_counts()"
   ]
  },
  {
   "cell_type": "code",
   "execution_count": 180,
   "id": "e64b1687",
   "metadata": {},
   "outputs": [
    {
     "data": {
      "image/png": "[encoded data removed]",
      "text/plain": [
       "<Figure size 432x288 with 1 Axes>"
      ]
     },
     "metadata": {
      "needs_background": "light"
     },
     "output_type": "display_data"
    }
   ],
   "source": [
    "ax = sns.countplot(x='hotel', data=df1, order=['City Hotel', 'Resort Hotel'], saturation=0.95, palette='seismic')\n",
    "plt.xlabel('Hotel',fontsize=14,weight='bold')\n",
    "plt.ylabel('Count',fontsize=14,weight='bold')\n",
    "plt.xticks(fontsize=13)\n",
    "plt.yticks()\n",
    "plt.show()"
   ]
  },
  {
   "cell_type": "markdown",
   "id": "f9925817",
   "metadata": {},
   "source": [
    "Most people prefered City hotel."
   ]
  },
  {
   "cell_type": "markdown",
   "id": "38ab136c",
   "metadata": {},
   "source": [
    "#### Cancellation ratio of hotels"
   ]
  },
  {
   "cell_type": "code",
   "execution_count": 181,
   "id": "615b4e5b",
   "metadata": {
    "scrolled": true
   },
   "outputs": [
    {
     "data": {
      "text/html": [
       "<div>\n",
       "<style scoped>\n",
       "    .dataframe tbody tr th:only-of-type {\n",
       "        vertical-align: middle;\n",
       "    }\n",
       "\n",
       "    .dataframe tbody tr th {\n",
       "        vertical-align: top;\n",
       "    }\n",
       "\n",
       "    .dataframe thead th {\n",
       "        text-align: right;\n",
       "    }\n",
       "</style>\n",
       "<table border=\"1\" class=\"dataframe\">\n",
       "  <thead>\n",
       "    <tr style=\"text-align: right;\">\n",
       "      <th>hotel</th>\n",
       "      <th>City Hotel</th>\n",
       "      <th>Resort Hotel</th>\n",
       "    </tr>\n",
       "    <tr>\n",
       "      <th>is_canceled</th>\n",
       "      <th></th>\n",
       "      <th></th>\n",
       "    </tr>\n",
       "  </thead>\n",
       "  <tbody>\n",
       "    <tr>\n",
       "      <th>0</th>\n",
       "      <td>46084</td>\n",
       "      <td>28926</td>\n",
       "    </tr>\n",
       "    <tr>\n",
       "      <th>1</th>\n",
       "      <td>33098</td>\n",
       "      <td>11122</td>\n",
       "    </tr>\n",
       "  </tbody>\n",
       "</table>\n",
       "</div>"
      ],
      "text/plain": [
       "hotel        City Hotel  Resort Hotel\n",
       "is_canceled                          \n",
       "0                 46084         28926\n",
       "1                 33098         11122"
      ]
     },
     "execution_count": 181,
     "metadata": {},
     "output_type": "execute_result"
    }
   ],
   "source": [
    "# hotel wise cancellation ratio\n",
    "pd.crosstab(df1['hotel'], df1['is_canceled']).T"
   ]
  },
  {
   "cell_type": "code",
   "execution_count": 182,
   "id": "79643a67",
   "metadata": {},
   "outputs": [
    {
     "data": {
      "image/png": "[encoded data removed]",
      "text/plain": [
       "<Figure size 432x288 with 1 Axes>"
      ]
     },
     "metadata": {
      "needs_background": "light"
     },
     "output_type": "display_data"
    }
   ],
   "source": [
    "ax = sns.countplot(x='hotel', data=df1, hue='is_canceled',order=['City Hotel', 'Resort Hotel'], saturation=0.90, palette='seismic')\n",
    "plt.xlabel('Hotel',fontsize=14,weight='bold')\n",
    "plt.ylabel('Count',fontsize=14,weight='bold')\n",
    "plt.xticks(fontsize=13)\n",
    "plt.yticks()\n",
    "plt.show()"
   ]
  },
  {
   "cell_type": "markdown",
   "id": "c8d0e91e",
   "metadata": {},
   "source": [
    "Many people made reservation in city hotel initially but almost half of them canceled it.  \n",
    "The city hotel Cancelations are more than the successsful Bookings of the Resort hotel."
   ]
  },
  {
   "cell_type": "markdown",
   "id": "7b142b9b",
   "metadata": {},
   "source": [
    "#### How many bookings were cancelled?"
   ]
  },
  {
   "cell_type": "code",
   "execution_count": 183,
   "id": "440bc373",
   "metadata": {},
   "outputs": [
    {
     "data": {
      "text/plain": [
       "0    75010\n",
       "1    44220\n",
       "Name: is_canceled, dtype: int64"
      ]
     },
     "execution_count": 183,
     "metadata": {},
     "output_type": "execute_result"
    }
   ],
   "source": [
    "# cancellation overall\n",
    "df1.is_canceled.value_counts()"
   ]
  },
  {
   "cell_type": "code",
   "execution_count": 184,
   "id": "e15e6480",
   "metadata": {},
   "outputs": [
    {
     "data": {
      "image/png": "[encoded data removed]",
      "text/plain": [
       "<Figure size 1008x360 with 1 Axes>"
      ]
     },
     "metadata": {},
     "output_type": "display_data"
    }
   ],
   "source": [
    "explode = (0.05, 0)\n",
    "plt.figure(figsize=(14, 5))\n",
    "colors= ['#5991eb', '#f52a48']\n",
    "ax=plt.pie(data=df1, x=df1.is_canceled.value_counts().values ,\n",
    "            labels = ['Bookings', 'Cancellations'], colors = colors \n",
    "            , autopct='%.1f%%', explode=explode, \n",
    "            wedgeprops = {\"edgecolor\" : \"black\",},\n",
    "          textprops={'fontsize':15, 'weight':'bold'})\n",
    "\n",
    "plt.xlabel('Overall Bookings and Cancellations%',fontsize=15,weight='bold')\n",
    "plt.rcParams['font.size'] = 13.0\n",
    "plt.xticks()\n",
    "plt.yticks()\n",
    "plt.tight_layout()\n",
    "plt.show()"
   ]
  },
  {
   "cell_type": "markdown",
   "id": "de76671b",
   "metadata": {},
   "source": [
    "Around 37% bookings were cancelled in both hotels."
   ]
  },
  {
   "cell_type": "markdown",
   "id": "cfa48088",
   "metadata": {},
   "source": [
    "#### From which country most people are?"
   ]
  },
  {
   "cell_type": "code",
   "execution_count": 185,
   "id": "dd935e90",
   "metadata": {},
   "outputs": [
    {
     "data": {
      "text/html": [
       "<div>\n",
       "<style scoped>\n",
       "    .dataframe tbody tr th:only-of-type {\n",
       "        vertical-align: middle;\n",
       "    }\n",
       "\n",
       "    .dataframe tbody tr th {\n",
       "        vertical-align: top;\n",
       "    }\n",
       "\n",
       "    .dataframe thead th {\n",
       "        text-align: right;\n",
       "    }\n",
       "</style>\n",
       "<table border=\"1\" class=\"dataframe\">\n",
       "  <thead>\n",
       "    <tr style=\"text-align: right;\">\n",
       "      <th></th>\n",
       "      <th>country</th>\n",
       "    </tr>\n",
       "  </thead>\n",
       "  <tbody>\n",
       "    <tr>\n",
       "      <th>PRT</th>\n",
       "      <td>48980</td>\n",
       "    </tr>\n",
       "    <tr>\n",
       "      <th>GBR</th>\n",
       "      <td>12120</td>\n",
       "    </tr>\n",
       "    <tr>\n",
       "      <th>FRA</th>\n",
       "      <td>10402</td>\n",
       "    </tr>\n",
       "    <tr>\n",
       "      <th>ESP</th>\n",
       "      <td>8560</td>\n",
       "    </tr>\n",
       "    <tr>\n",
       "      <th>DEU</th>\n",
       "      <td>7285</td>\n",
       "    </tr>\n",
       "  </tbody>\n",
       "</table>\n",
       "</div>"
      ],
      "text/plain": [
       "     country\n",
       "PRT    48980\n",
       "GBR    12120\n",
       "FRA    10402\n",
       "ESP     8560\n",
       "DEU     7285"
      ]
     },
     "execution_count": 185,
     "metadata": {},
     "output_type": "execute_result"
    }
   ],
   "source": [
    "# country\n",
    "\n",
    "# showing top 5 countries from visitors belong to\n",
    "df1.country.value_counts()[:5].to_frame()"
   ]
  },
  {
   "cell_type": "code",
   "execution_count": 186,
   "id": "e2a39897",
   "metadata": {},
   "outputs": [],
   "source": [
    "country_df = df1.country.value_counts()[:15].to_frame()\n",
    "countries_count=country_df.country.values\n",
    "countries_name=country_df.index.values"
   ]
  },
  {
   "cell_type": "code",
   "execution_count": 187,
   "id": "fe5a88f3",
   "metadata": {},
   "outputs": [
    {
     "data": {
      "application/vnd.plotly.v1+json": {
       "config": {
        "plotlyServerURL": "https://plot.ly"
       },
       "data": [
        {
         "customdata": [
          [
           48980
          ],
          [
           12120
          ],
          [
           10402
          ],
          [
           8560
          ],
          [
           7285
          ],
          [
           3761
          ],
          [
           3374
          ],
          [
           2342
          ],
          [
           2222
          ],
          [
           2103
          ],
          [
           2093
          ],
          [
           1726
          ],
          [
           1279
          ],
          [
           1263
          ],
          [
           1020
          ]
         ],
         "geo": "geo",
         "hovertemplate": "size=%{marker.size}<br>locations=%{location}<extra></extra>",
         "legendgroup": "",
         "locations": [
          "PRT",
          "GBR",
          "FRA",
          "ESP",
          "DEU",
          "ITA",
          "IRL",
          "BEL",
          "BRA",
          "NLD",
          "USA",
          "CHE",
          "CN",
          "AUT",
          "SWE"
         ],
         "marker": {
          "color": [
           48980,
           12120,
           10402,
           8560,
           7285,
           3761,
           3374,
           2342,
           2222,
           2103,
           2093,
           1726,
           1279,
           1263,
           1020
          ],
          "coloraxis": "coloraxis",
          "size": [
           48980,
           12120,
           10402,
           8560,
           7285,
           3761,
           3374,
           2342,
           2222,
           2103,
           2093,
           1726,
           1279,
           1263,
           1020
          ],
          "sizemode": "area",
          "sizeref": 122.45,
          "symbol": "circle"
         },
         "mode": "markers",
         "name": "",
         "showlegend": false,
         "type": "scattergeo"
        }
       ],
       "layout": {
        "coloraxis": {
         "colorbar": {
          "title": {
           "text": "country"
          }
         },
         "colorscale": [
          [
           0,
           "#0d0887"
          ],
          [
           0.1111111111111111,
           "#46039f"
          ],
          [
           0.2222222222222222,
           "#7201a8"
          ],
          [
           0.3333333333333333,
           "#9c179e"
          ],
          [
           0.4444444444444444,
           "#bd3786"
          ],
          [
           0.5555555555555556,
           "#d8576b"
          ],
          [
           0.6666666666666666,
           "#ed7953"
          ],
          [
           0.7777777777777778,
           "#fb9f3a"
          ],
          [
           0.8888888888888888,
           "#fdca26"
          ],
          [
           1,
           "#f0f921"
          ]
         ]
        },
        "geo": {
         "center": {},
         "domain": {
          "x": [
           0,
           1
          ],
          "y": [
           0,
           1
          ]
         }
        },
        "legend": {
         "itemsizing": "constant",
         "tracegroupgap": 0
        },
        "margin": {
         "t": 60
        },
        "template": {
         "data": {
          "bar": [
           {
            "error_x": {
             "color": "#2a3f5f"
            },
            "error_y": {
             "color": "#2a3f5f"
            },
            "marker": {
             "line": {
              "color": "#E5ECF6",
              "width": 0.5
             },
             "pattern": {
              "fillmode": "overlay",
              "size": 10,
              "solidity": 0.2
             }
            },
            "type": "bar"
           }
          ],
          "barpolar": [
           {
            "marker": {
             "line": {
              "color": "#E5ECF6",
              "width": 0.5
             },
             "pattern": {
              "fillmode": "overlay",
              "size": 10,
              "solidity": 0.2
             }
            },
            "type": "barpolar"
           }
          ],
          "carpet": [
           {
            "aaxis": {
             "endlinecolor": "#2a3f5f",
             "gridcolor": "white",
             "linecolor": "white",
             "minorgridcolor": "white",
             "startlinecolor": "#2a3f5f"
            },
            "baxis": {
             "endlinecolor": "#2a3f5f",
             "gridcolor": "white",
             "linecolor": "white",
             "minorgridcolor": "white",
             "startlinecolor": "#2a3f5f"
            },
            "type": "carpet"
           }
          ],
          "choropleth": [
           {
            "colorbar": {
             "outlinewidth": 0,
             "ticks": ""
            },
            "type": "choropleth"
           }
          ],
          "contour": [
           {
            "colorbar": {
             "outlinewidth": 0,
             "ticks": ""
            },
            "colorscale": [
             [
              0,
              "#0d0887"
             ],
             [
              0.1111111111111111,
              "#46039f"
             ],
             [
              0.2222222222222222,
              "#7201a8"
             ],
             [
              0.3333333333333333,
              "#9c179e"
             ],
             [
              0.4444444444444444,
              "#bd3786"
             ],
             [
              0.5555555555555556,
              "#d8576b"
             ],
             [
              0.6666666666666666,
              "#ed7953"
             ],
             [
              0.7777777777777778,
              "#fb9f3a"
             ],
             [
              0.8888888888888888,
              "#fdca26"
             ],
             [
              1,
              "#f0f921"
             ]
            ],
            "type": "contour"
           }
          ],
          "contourcarpet": [
           {
            "colorbar": {
             "outlinewidth": 0,
             "ticks": ""
            },
            "type": "contourcarpet"
           }
          ],
          "heatmap": [
           {
            "colorbar": {
             "outlinewidth": 0,
             "ticks": ""
            },
            "colorscale": [
             [
              0,
              "#0d0887"
             ],
             [
              0.1111111111111111,
              "#46039f"
             ],
             [
              0.2222222222222222,
              "#7201a8"
             ],
             [
              0.3333333333333333,
              "#9c179e"
             ],
             [
              0.4444444444444444,
              "#bd3786"
             ],
             [
              0.5555555555555556,
              "#d8576b"
             ],
             [
              0.6666666666666666,
              "#ed7953"
             ],
             [
              0.7777777777777778,
              "#fb9f3a"
             ],
             [
              0.8888888888888888,
              "#fdca26"
             ],
             [
              1,
              "#f0f921"
             ]
            ],
            "type": "heatmap"
           }
          ],
          "heatmapgl": [
           {
            "colorbar": {
             "outlinewidth": 0,
             "ticks": ""
            },
            "colorscale": [
             [
              0,
              "#0d0887"
             ],
             [
              0.1111111111111111,
              "#46039f"
             ],
             [
              0.2222222222222222,
              "#7201a8"
             ],
             [
              0.3333333333333333,
              "#9c179e"
             ],
             [
              0.4444444444444444,
              "#bd3786"
             ],
             [
              0.5555555555555556,
              "#d8576b"
             ],
             [
              0.6666666666666666,
              "#ed7953"
             ],
             [
              0.7777777777777778,
              "#fb9f3a"
             ],
             [
              0.8888888888888888,
              "#fdca26"
             ],
             [
              1,
              "#f0f921"
             ]
            ],
            "type": "heatmapgl"
           }
          ],
          "histogram": [
           {
            "marker": {
             "pattern": {
              "fillmode": "overlay",
              "size": 10,
              "solidity": 0.2
             }
            },
            "type": "histogram"
           }
          ],
          "histogram2d": [
           {
            "colorbar": {
             "outlinewidth": 0,
             "ticks": ""
            },
            "colorscale": [
             [
              0,
              "#0d0887"
             ],
             [
              0.1111111111111111,
              "#46039f"
             ],
             [
              0.2222222222222222,
              "#7201a8"
             ],
             [
              0.3333333333333333,
              "#9c179e"
             ],
             [
              0.4444444444444444,
              "#bd3786"
             ],
             [
              0.5555555555555556,
              "#d8576b"
             ],
             [
              0.6666666666666666,
              "#ed7953"
             ],
             [
              0.7777777777777778,
              "#fb9f3a"
             ],
             [
              0.8888888888888888,
              "#fdca26"
             ],
             [
              1,
              "#f0f921"
             ]
            ],
            "type": "histogram2d"
           }
          ],
          "histogram2dcontour": [
           {
            "colorbar": {
             "outlinewidth": 0,
             "ticks": ""
            },
            "colorscale": [
             [
              0,
              "#0d0887"
             ],
             [
              0.1111111111111111,
              "#46039f"
             ],
             [
              0.2222222222222222,
              "#7201a8"
             ],
             [
              0.3333333333333333,
              "#9c179e"
             ],
             [
              0.4444444444444444,
              "#bd3786"
             ],
             [
              0.5555555555555556,
              "#d8576b"
             ],
             [
              0.6666666666666666,
              "#ed7953"
             ],
             [
              0.7777777777777778,
              "#fb9f3a"
             ],
             [
              0.8888888888888888,
              "#fdca26"
             ],
             [
              1,
              "#f0f921"
             ]
            ],
            "type": "histogram2dcontour"
           }
          ],
          "mesh3d": [
           {
            "colorbar": {
             "outlinewidth": 0,
             "ticks": ""
            },
            "type": "mesh3d"
           }
          ],
          "parcoords": [
           {
            "line": {
             "colorbar": {
              "outlinewidth": 0,
              "ticks": ""
             }
            },
            "type": "parcoords"
           }
          ],
          "pie": [
           {
            "automargin": true,
            "type": "pie"
           }
          ],
          "scatter": [
           {
            "marker": {
             "colorbar": {
              "outlinewidth": 0,
              "ticks": ""
             }
            },
            "type": "scatter"
           }
          ],
          "scatter3d": [
           {
            "line": {
             "colorbar": {
              "outlinewidth": 0,
              "ticks": ""
             }
            },
            "marker": {
             "colorbar": {
              "outlinewidth": 0,
              "ticks": ""
             }
            },
            "type": "scatter3d"
           }
          ],
          "scattercarpet": [
           {
            "marker": {
             "colorbar": {
              "outlinewidth": 0,
              "ticks": ""
             }
            },
            "type": "scattercarpet"
           }
          ],
          "scattergeo": [
           {
            "marker": {
             "colorbar": {
              "outlinewidth": 0,
              "ticks": ""
             }
            },
            "type": "scattergeo"
           }
          ],
          "scattergl": [
           {
            "marker": {
             "colorbar": {
              "outlinewidth": 0,
              "ticks": ""
             }
            },
            "type": "scattergl"
           }
          ],
          "scattermapbox": [
           {
            "marker": {
             "colorbar": {
              "outlinewidth": 0,
              "ticks": ""
             }
            },
            "type": "scattermapbox"
           }
          ],
          "scatterpolar": [
           {
            "marker": {
             "colorbar": {
              "outlinewidth": 0,
              "ticks": ""
             }
            },
            "type": "scatterpolar"
           }
          ],
          "scatterpolargl": [
           {
            "marker": {
             "colorbar": {
              "outlinewidth": 0,
              "ticks": ""
             }
            },
            "type": "scatterpolargl"
           }
          ],
          "scatterternary": [
           {
            "marker": {
             "colorbar": {
              "outlinewidth": 0,
              "ticks": ""
             }
            },
            "type": "scatterternary"
           }
          ],
          "surface": [
           {
            "colorbar": {
             "outlinewidth": 0,
             "ticks": ""
            },
            "colorscale": [
             [
              0,
              "#0d0887"
             ],
             [
              0.1111111111111111,
              "#46039f"
             ],
             [
              0.2222222222222222,
              "#7201a8"
             ],
             [
              0.3333333333333333,
              "#9c179e"
             ],
             [
              0.4444444444444444,
              "#bd3786"
             ],
             [
              0.5555555555555556,
              "#d8576b"
             ],
             [
              0.6666666666666666,
              "#ed7953"
             ],
             [
              0.7777777777777778,
              "#fb9f3a"
             ],
             [
              0.8888888888888888,
              "#fdca26"
             ],
             [
              1,
              "#f0f921"
             ]
            ],
            "type": "surface"
           }
          ],
          "table": [
           {
            "cells": {
             "fill": {
              "color": "#EBF0F8"
             },
             "line": {
              "color": "white"
             }
            },
            "header": {
             "fill": {
              "color": "#C8D4E3"
             },
             "line": {
              "color": "white"
             }
            },
            "type": "table"
           }
          ]
         },
         "layout": {
          "annotationdefaults": {
           "arrowcolor": "#2a3f5f",
           "arrowhead": 0,
           "arrowwidth": 1
          },
          "autotypenumbers": "strict",
          "coloraxis": {
           "colorbar": {
            "outlinewidth": 0,
            "ticks": ""
           }
          },
          "colorscale": {
           "diverging": [
            [
             0,
             "#8e0152"
            ],
            [
             0.1,
             "#c51b7d"
            ],
            [
             0.2,
             "#de77ae"
            ],
            [
             0.3,
             "#f1b6da"
            ],
            [
             0.4,
             "#fde0ef"
            ],
            [
             0.5,
             "#f7f7f7"
            ],
            [
             0.6,
             "#e6f5d0"
            ],
            [
             0.7,
             "#b8e186"
            ],
            [
             0.8,
             "#7fbc41"
            ],
            [
             0.9,
             "#4d9221"
            ],
            [
             1,
             "#276419"
            ]
           ],
           "sequential": [
            [
             0,
             "#0d0887"
            ],
            [
             0.1111111111111111,
             "#46039f"
            ],
            [
             0.2222222222222222,
             "#7201a8"
            ],
            [
             0.3333333333333333,
             "#9c179e"
            ],
            [
             0.4444444444444444,
             "#bd3786"
            ],
            [
             0.5555555555555556,
             "#d8576b"
            ],
            [
             0.6666666666666666,
             "#ed7953"
            ],
            [
             0.7777777777777778,
             "#fb9f3a"
            ],
            [
             0.8888888888888888,
             "#fdca26"
            ],
            [
             1,
             "#f0f921"
            ]
           ],
           "sequentialminus": [
            [
             0,
             "#0d0887"
            ],
            [
             0.1111111111111111,
             "#46039f"
            ],
            [
             0.2222222222222222,
             "#7201a8"
            ],
            [
             0.3333333333333333,
             "#9c179e"
            ],
            [
             0.4444444444444444,
             "#bd3786"
            ],
            [
             0.5555555555555556,
             "#d8576b"
            ],
            [
             0.6666666666666666,
             "#ed7953"
            ],
            [
             0.7777777777777778,
             "#fb9f3a"
            ],
            [
             0.8888888888888888,
             "#fdca26"
            ],
            [
             1,
             "#f0f921"
            ]
           ]
          },
          "colorway": [
           "#636efa",
           "#EF553B",
           "#00cc96",
           "#ab63fa",
           "#FFA15A",
           "#19d3f3",
           "#FF6692",
           "#B6E880",
           "#FF97FF",
           "#FECB52"
          ],
          "font": {
           "color": "#2a3f5f"
          },
          "geo": {
           "bgcolor": "white",
           "lakecolor": "white",
           "landcolor": "#E5ECF6",
           "showlakes": true,
           "showland": true,
           "subunitcolor": "white"
          },
          "hoverlabel": {
           "align": "left"
          },
          "hovermode": "closest",
          "mapbox": {
           "style": "light"
          },
          "paper_bgcolor": "white",
          "plot_bgcolor": "#E5ECF6",
          "polar": {
           "angularaxis": {
            "gridcolor": "white",
            "linecolor": "white",
            "ticks": ""
           },
           "bgcolor": "#E5ECF6",
           "radialaxis": {
            "gridcolor": "white",
            "linecolor": "white",
            "ticks": ""
           }
          },
          "scene": {
           "xaxis": {
            "backgroundcolor": "#E5ECF6",
            "gridcolor": "white",
            "gridwidth": 2,
            "linecolor": "white",
            "showbackground": true,
            "ticks": "",
            "zerolinecolor": "white"
           },
           "yaxis": {
            "backgroundcolor": "#E5ECF6",
            "gridcolor": "white",
            "gridwidth": 2,
            "linecolor": "white",
            "showbackground": true,
            "ticks": "",
            "zerolinecolor": "white"
           },
           "zaxis": {
            "backgroundcolor": "#E5ECF6",
            "gridcolor": "white",
            "gridwidth": 2,
            "linecolor": "white",
            "showbackground": true,
            "ticks": "",
            "zerolinecolor": "white"
           }
          },
          "shapedefaults": {
           "line": {
            "color": "#2a3f5f"
           }
          },
          "ternary": {
           "aaxis": {
            "gridcolor": "white",
            "linecolor": "white",
            "ticks": ""
           },
           "baxis": {
            "gridcolor": "white",
            "linecolor": "white",
            "ticks": ""
           },
           "bgcolor": "#E5ECF6",
           "caxis": {
            "gridcolor": "white",
            "linecolor": "white",
            "ticks": ""
           }
          },
          "title": {
           "x": 0.05
          },
          "xaxis": {
           "automargin": true,
           "gridcolor": "white",
           "linecolor": "white",
           "ticks": "",
           "title": {
            "standoff": 15
           },
           "zerolinecolor": "white",
           "zerolinewidth": 2
          },
          "yaxis": {
           "automargin": true,
           "gridcolor": "white",
           "linecolor": "white",
           "ticks": "",
           "title": {
            "standoff": 15
           },
           "zerolinecolor": "white",
           "zerolinewidth": 2
          }
         }
        }
       }
      },
      "text/html": [
       "<div>                            <div id=\"fc19c5c3-bffa-419f-be72-ec9096a45063\" class=\"plotly-graph-div\" style=\"height:525px; width:100%;\"></div>            <script type=\"text/javascript\">                require([\"plotly\"], function(Plotly) {                    window.PLOTLYENV=window.PLOTLYENV || {};                                    if (document.getElementById(\"fc19c5c3-bffa-419f-be72-ec9096a45063\")) {                    Plotly.newPlot(                        \"fc19c5c3-bffa-419f-be72-ec9096a45063\",                        [{\"customdata\":[[48980],[12120],[10402],[8560],[7285],[3761],[3374],[2342],[2222],[2103],[2093],[1726],[1279],[1263],[1020]],\"geo\":\"geo\",\"hovertemplate\":\"size=%{marker.size}<br>locations=%{location}<extra></extra>\",\"legendgroup\":\"\",\"locations\":[\"PRT\",\"GBR\",\"FRA\",\"ESP\",\"DEU\",\"ITA\",\"IRL\",\"BEL\",\"BRA\",\"NLD\",\"USA\",\"CHE\",\"CN\",\"AUT\",\"SWE\"],\"marker\":{\"color\":[48980,12120,10402,8560,7285,3761,3374,2342,2222,2103,2093,1726,1279,1263,1020],\"coloraxis\":\"coloraxis\",\"size\":[48980,12120,10402,8560,7285,3761,3374,2342,2222,2103,2093,1726,1279,1263,1020],\"sizemode\":\"area\",\"sizeref\":122.45,\"symbol\":\"circle\"},\"mode\":\"markers\",\"name\":\"\",\"showlegend\":false,\"type\":\"scattergeo\"}],                        {\"template\":{\"data\":{\"bar\":[{\"error_x\":{\"color\":\"#2a3f5f\"},\"error_y\":{\"color\":\"#2a3f5f\"},\"marker\":{\"line\":{\"color\":\"#E5ECF6\",\"width\":0.5},\"pattern\":{\"fillmode\":\"overlay\",\"size\":10,\"solidity\":0.2}},\"type\":\"bar\"}],\"barpolar\":[{\"marker\":{\"line\":{\"color\":\"#E5ECF6\",\"width\":0.5},\"pattern\":{\"fillmode\":\"overlay\",\"size\":10,\"solidity\":0.2}},\"type\":\"barpolar\"}],\"carpet\":[{\"aaxis\":{\"endlinecolor\":\"#2a3f5f\",\"gridcolor\":\"white\",\"linecolor\":\"white\",\"minorgridcolor\":\"white\",\"startlinecolor\":\"#2a3f5f\"},\"baxis\":{\"endlinecolor\":\"#2a3f5f\",\"gridcolor\":\"white\",\"linecolor\":\"white\",\"minorgridcolor\":\"white\",\"startlinecolor\":\"#2a3f5f\"},\"type\":\"carpet\"}],\"choropleth\":[{\"colorbar\":{\"outlinewidth\":0,\"ticks\":\"\"},\"type\":\"choropleth\"}],\"contour\":[{\"colorbar\":{\"outlinewidth\":0,\"ticks\":\"\"},\"colorscale\":[[0.0,\"#0d0887\"],[0.1111111111111111,\"#46039f\"],[0.2222222222222222,\"#7201a8\"],[0.3333333333333333,\"#9c179e\"],[0.4444444444444444,\"#bd3786\"],[0.5555555555555556,\"#d8576b\"],[0.6666666666666666,\"#ed7953\"],[0.7777777777777778,\"#fb9f3a\"],[0.8888888888888888,\"#fdca26\"],[1.0,\"#f0f921\"]],\"type\":\"contour\"}],\"contourcarpet\":[{\"colorbar\":{\"outlinewidth\":0,\"ticks\":\"\"},\"type\":\"contourcarpet\"}],\"heatmap\":[{\"colorbar\":{\"outlinewidth\":0,\"ticks\":\"\"},\"colorscale\":[[0.0,\"#0d0887\"],[0.1111111111111111,\"#46039f\"],[0.2222222222222222,\"#7201a8\"],[0.3333333333333333,\"#9c179e\"],[0.4444444444444444,\"#bd3786\"],[0.5555555555555556,\"#d8576b\"],[0.6666666666666666,\"#ed7953\"],[0.7777777777777778,\"#fb9f3a\"],[0.8888888888888888,\"#fdca26\"],[1.0,\"#f0f921\"]],\"type\":\"heatmap\"}],\"heatmapgl\":[{\"colorbar\":{\"outlinewidth\":0,\"ticks\":\"\"},\"colorscale\":[[0.0,\"#0d0887\"],[0.1111111111111111,\"#46039f\"],[0.2222222222222222,\"#7201a8\"],[0.3333333333333333,\"#9c179e\"],[0.4444444444444444,\"#bd3786\"],[0.5555555555555556,\"#d8576b\"],[0.6666666666666666,\"#ed7953\"],[0.7777777777777778,\"#fb9f3a\"],[0.8888888888888888,\"#fdca26\"],[1.0,\"#f0f921\"]],\"type\":\"heatmapgl\"}],\"histogram\":[{\"marker\":{\"pattern\":{\"fillmode\":\"overlay\",\"size\":10,\"solidity\":0.2}},\"type\":\"histogram\"}],\"histogram2d\":[{\"colorbar\":{\"outlinewidth\":0,\"ticks\":\"\"},\"colorscale\":[[0.0,\"#0d0887\"],[0.1111111111111111,\"#46039f\"],[0.2222222222222222,\"#7201a8\"],[0.3333333333333333,\"#9c179e\"],[0.4444444444444444,\"#bd3786\"],[0.5555555555555556,\"#d8576b\"],[0.6666666666666666,\"#ed7953\"],[0.7777777777777778,\"#fb9f3a\"],[0.8888888888888888,\"#fdca26\"],[1.0,\"#f0f921\"]],\"type\":\"histogram2d\"}],\"histogram2dcontour\":[{\"colorbar\":{\"outlinewidth\":0,\"ticks\":\"\"},\"colorscale\":[[0.0,\"#0d0887\"],[0.1111111111111111,\"#46039f\"],[0.2222222222222222,\"#7201a8\"],[0.3333333333333333,\"#9c179e\"],[0.4444444444444444,\"#bd3786\"],[0.5555555555555556,\"#d8576b\"],[0.6666666666666666,\"#ed7953\"],[0.7777777777777778,\"#fb9f3a\"],[0.8888888888888888,\"#fdca26\"],[1.0,\"#f0f921\"]],\"type\":\"histogram2dcontour\"}],\"mesh3d\":[{\"colorbar\":{\"outlinewidth\":0,\"ticks\":\"\"},\"type\":\"mesh3d\"}],\"parcoords\":[{\"line\":{\"colorbar\":{\"outlinewidth\":0,\"ticks\":\"\"}},\"type\":\"parcoords\"}],\"pie\":[{\"automargin\":true,\"type\":\"pie\"}],\"scatter\":[{\"marker\":{\"colorbar\":{\"outlinewidth\":0,\"ticks\":\"\"}},\"type\":\"scatter\"}],\"scatter3d\":[{\"line\":{\"colorbar\":{\"outlinewidth\":0,\"ticks\":\"\"}},\"marker\":{\"colorbar\":{\"outlinewidth\":0,\"ticks\":\"\"}},\"type\":\"scatter3d\"}],\"scattercarpet\":[{\"marker\":{\"colorbar\":{\"outlinewidth\":0,\"ticks\":\"\"}},\"type\":\"scattercarpet\"}],\"scattergeo\":[{\"marker\":{\"colorbar\":{\"outlinewidth\":0,\"ticks\":\"\"}},\"type\":\"scattergeo\"}],\"scattergl\":[{\"marker\":{\"colorbar\":{\"outlinewidth\":0,\"ticks\":\"\"}},\"type\":\"scattergl\"}],\"scattermapbox\":[{\"marker\":{\"colorbar\":{\"outlinewidth\":0,\"ticks\":\"\"}},\"type\":\"scattermapbox\"}],\"scatterpolar\":[{\"marker\":{\"colorbar\":{\"outlinewidth\":0,\"ticks\":\"\"}},\"type\":\"scatterpolar\"}],\"scatterpolargl\":[{\"marker\":{\"colorbar\":{\"outlinewidth\":0,\"ticks\":\"\"}},\"type\":\"scatterpolargl\"}],\"scatterternary\":[{\"marker\":{\"colorbar\":{\"outlinewidth\":0,\"ticks\":\"\"}},\"type\":\"scatterternary\"}],\"surface\":[{\"colorbar\":{\"outlinewidth\":0,\"ticks\":\"\"},\"colorscale\":[[0.0,\"#0d0887\"],[0.1111111111111111,\"#46039f\"],[0.2222222222222222,\"#7201a8\"],[0.3333333333333333,\"#9c179e\"],[0.4444444444444444,\"#bd3786\"],[0.5555555555555556,\"#d8576b\"],[0.6666666666666666,\"#ed7953\"],[0.7777777777777778,\"#fb9f3a\"],[0.8888888888888888,\"#fdca26\"],[1.0,\"#f0f921\"]],\"type\":\"surface\"}],\"table\":[{\"cells\":{\"fill\":{\"color\":\"#EBF0F8\"},\"line\":{\"color\":\"white\"}},\"header\":{\"fill\":{\"color\":\"#C8D4E3\"},\"line\":{\"color\":\"white\"}},\"type\":\"table\"}]},\"layout\":{\"annotationdefaults\":{\"arrowcolor\":\"#2a3f5f\",\"arrowhead\":0,\"arrowwidth\":1},\"autotypenumbers\":\"strict\",\"coloraxis\":{\"colorbar\":{\"outlinewidth\":0,\"ticks\":\"\"}},\"colorscale\":{\"diverging\":[[0,\"#8e0152\"],[0.1,\"#c51b7d\"],[0.2,\"#de77ae\"],[0.3,\"#f1b6da\"],[0.4,\"#fde0ef\"],[0.5,\"#f7f7f7\"],[0.6,\"#e6f5d0\"],[0.7,\"#b8e186\"],[0.8,\"#7fbc41\"],[0.9,\"#4d9221\"],[1,\"#276419\"]],\"sequential\":[[0.0,\"#0d0887\"],[0.1111111111111111,\"#46039f\"],[0.2222222222222222,\"#7201a8\"],[0.3333333333333333,\"#9c179e\"],[0.4444444444444444,\"#bd3786\"],[0.5555555555555556,\"#d8576b\"],[0.6666666666666666,\"#ed7953\"],[0.7777777777777778,\"#fb9f3a\"],[0.8888888888888888,\"#fdca26\"],[1.0,\"#f0f921\"]],\"sequentialminus\":[[0.0,\"#0d0887\"],[0.1111111111111111,\"#46039f\"],[0.2222222222222222,\"#7201a8\"],[0.3333333333333333,\"#9c179e\"],[0.4444444444444444,\"#bd3786\"],[0.5555555555555556,\"#d8576b\"],[0.6666666666666666,\"#ed7953\"],[0.7777777777777778,\"#fb9f3a\"],[0.8888888888888888,\"#fdca26\"],[1.0,\"#f0f921\"]]},\"colorway\":[\"#636efa\",\"#EF553B\",\"#00cc96\",\"#ab63fa\",\"#FFA15A\",\"#19d3f3\",\"#FF6692\",\"#B6E880\",\"#FF97FF\",\"#FECB52\"],\"font\":{\"color\":\"#2a3f5f\"},\"geo\":{\"bgcolor\":\"white\",\"lakecolor\":\"white\",\"landcolor\":\"#E5ECF6\",\"showlakes\":true,\"showland\":true,\"subunitcolor\":\"white\"},\"hoverlabel\":{\"align\":\"left\"},\"hovermode\":\"closest\",\"mapbox\":{\"style\":\"light\"},\"paper_bgcolor\":\"white\",\"plot_bgcolor\":\"#E5ECF6\",\"polar\":{\"angularaxis\":{\"gridcolor\":\"white\",\"linecolor\":\"white\",\"ticks\":\"\"},\"bgcolor\":\"#E5ECF6\",\"radialaxis\":{\"gridcolor\":\"white\",\"linecolor\":\"white\",\"ticks\":\"\"}},\"scene\":{\"xaxis\":{\"backgroundcolor\":\"#E5ECF6\",\"gridcolor\":\"white\",\"gridwidth\":2,\"linecolor\":\"white\",\"showbackground\":true,\"ticks\":\"\",\"zerolinecolor\":\"white\"},\"yaxis\":{\"backgroundcolor\":\"#E5ECF6\",\"gridcolor\":\"white\",\"gridwidth\":2,\"linecolor\":\"white\",\"showbackground\":true,\"ticks\":\"\",\"zerolinecolor\":\"white\"},\"zaxis\":{\"backgroundcolor\":\"#E5ECF6\",\"gridcolor\":\"white\",\"gridwidth\":2,\"linecolor\":\"white\",\"showbackground\":true,\"ticks\":\"\",\"zerolinecolor\":\"white\"}},\"shapedefaults\":{\"line\":{\"color\":\"#2a3f5f\"}},\"ternary\":{\"aaxis\":{\"gridcolor\":\"white\",\"linecolor\":\"white\",\"ticks\":\"\"},\"baxis\":{\"gridcolor\":\"white\",\"linecolor\":\"white\",\"ticks\":\"\"},\"bgcolor\":\"#E5ECF6\",\"caxis\":{\"gridcolor\":\"white\",\"linecolor\":\"white\",\"ticks\":\"\"}},\"title\":{\"x\":0.05},\"xaxis\":{\"automargin\":true,\"gridcolor\":\"white\",\"linecolor\":\"white\",\"ticks\":\"\",\"title\":{\"standoff\":15},\"zerolinecolor\":\"white\",\"zerolinewidth\":2},\"yaxis\":{\"automargin\":true,\"gridcolor\":\"white\",\"linecolor\":\"white\",\"ticks\":\"\",\"title\":{\"standoff\":15},\"zerolinecolor\":\"white\",\"zerolinewidth\":2}}},\"geo\":{\"domain\":{\"x\":[0.0,1.0],\"y\":[0.0,1.0]},\"center\":{}},\"coloraxis\":{\"colorbar\":{\"title\":{\"text\":\"country\"}},\"colorscale\":[[0.0,\"#0d0887\"],[0.1111111111111111,\"#46039f\"],[0.2222222222222222,\"#7201a8\"],[0.3333333333333333,\"#9c179e\"],[0.4444444444444444,\"#bd3786\"],[0.5555555555555556,\"#d8576b\"],[0.6666666666666666,\"#ed7953\"],[0.7777777777777778,\"#fb9f3a\"],[0.8888888888888888,\"#fdca26\"],[1.0,\"#f0f921\"]]},\"legend\":{\"tracegroupgap\":0,\"itemsizing\":\"constant\"},\"margin\":{\"t\":60}},                        {\"responsive\": true}                    ).then(function(){\n",
       "                            \n",
       "var gd = document.getElementById('fc19c5c3-bffa-419f-be72-ec9096a45063');\n",
       "var x = new MutationObserver(function (mutations, observer) {{\n",
       "        var display = window.getComputedStyle(gd).display;\n",
       "        if (!display || display === 'none') {{\n",
       "            console.log([gd, 'removed!']);\n",
       "            Plotly.purge(gd);\n",
       "            observer.disconnect();\n",
       "        }}\n",
       "}});\n",
       "\n",
       "// Listen for the removal of the full notebook cells\n",
       "var notebookContainer = gd.closest('#notebook-container');\n",
       "if (notebookContainer) {{\n",
       "    x.observe(notebookContainer, {childList: true});\n",
       "}}\n",
       "\n",
       "// Listen for the clearing of the current output cell\n",
       "var outputEl = gd.closest('.output');\n",
       "if (outputEl) {{\n",
       "    x.observe(outputEl, {childList: true});\n",
       "}}\n",
       "\n",
       "                        })                };                });            </script>        </div>"
      ]
     },
     "metadata": {},
     "output_type": "display_data"
    }
   ],
   "source": [
    "# top 15 countries\n",
    "fig = px.scatter_geo(data_frame=country_df, locations=countries_name, size=countries_count,\n",
    "                     color='country', hover_data={'country':False}\n",
    "                    )\n",
    "fig.show()"
   ]
  },
  {
   "cell_type": "markdown",
   "id": "68167328",
   "metadata": {},
   "source": [
    "Most people came from Portugal, following Great Britain(UK) and France."
   ]
  },
  {
   "cell_type": "code",
   "execution_count": 188,
   "id": "626e9492",
   "metadata": {},
   "outputs": [
    {
     "data": {
      "image/png": "[encoded data removed]",
      "text/plain": [
       "<Figure size 432x288 with 1 Axes>"
      ]
     },
     "metadata": {
      "needs_background": "light"
     },
     "output_type": "display_data"
    }
   ],
   "source": [
    "# arrival_date_year\n",
    "ax = sns.countplot(x='arrival_date_year', data=df1, saturation=0.9, palette='Set1')\n",
    "plt.xlabel('Year',fontsize=14,weight='bold')\n",
    "plt.ylabel('Count',fontsize=14,weight='bold')\n",
    "plt.xticks()\n",
    "plt.yticks()\n",
    "plt.show()"
   ]
  },
  {
   "cell_type": "code",
   "execution_count": 191,
   "id": "c0970341",
   "metadata": {},
   "outputs": [
    {
     "data": {
      "image/png": "[encoded data removed]",
      "text/plain": [
       "<Figure size 432x288 with 1 Axes>"
      ]
     },
     "metadata": {
      "needs_background": "light"
     },
     "output_type": "display_data"
    }
   ],
   "source": [
    "ax = sns.countplot(x='arrival_date_year', data=df1, hue='hotel', saturation=0.9, palette='Reds_r')\n",
    "plt.xlabel('Year',fontsize=14,weight='bold')\n",
    "plt.ylabel('Count',fontsize=14,weight='bold')\n",
    "plt.xticks()\n",
    "plt.yticks()\n",
    "plt.legend(loc='upper right',)\n",
    "plt.show()"
   ]
  },
  {
   "cell_type": "markdown",
   "id": "4dadbea3",
   "metadata": {},
   "source": [
    "Most bookings were made in 2016.  \n",
    "The number increased in 2016 but decreasing in 2017."
   ]
  },
  {
   "cell_type": "markdown",
   "id": "718e279a",
   "metadata": {},
   "source": [
    "### Monthly Booking Trend overall"
   ]
  },
  {
   "cell_type": "code",
   "execution_count": 192,
   "id": "b0cb6a1b",
   "metadata": {},
   "outputs": [
    {
     "data": {
      "text/html": [
       "<div>\n",
       "<style scoped>\n",
       "    .dataframe tbody tr th:only-of-type {\n",
       "        vertical-align: middle;\n",
       "    }\n",
       "\n",
       "    .dataframe tbody tr th {\n",
       "        vertical-align: top;\n",
       "    }\n",
       "\n",
       "    .dataframe thead th {\n",
       "        text-align: right;\n",
       "    }\n",
       "</style>\n",
       "<table border=\"1\" class=\"dataframe\">\n",
       "  <thead>\n",
       "    <tr style=\"text-align: right;\">\n",
       "      <th></th>\n",
       "      <th>index</th>\n",
       "      <th>arrival_date_month</th>\n",
       "    </tr>\n",
       "  </thead>\n",
       "  <tbody>\n",
       "    <tr>\n",
       "      <th>0</th>\n",
       "      <td>August</td>\n",
       "      <td>13859</td>\n",
       "    </tr>\n",
       "    <tr>\n",
       "      <th>1</th>\n",
       "      <td>July</td>\n",
       "      <td>12649</td>\n",
       "    </tr>\n",
       "    <tr>\n",
       "      <th>2</th>\n",
       "      <td>May</td>\n",
       "      <td>11780</td>\n",
       "    </tr>\n",
       "    <tr>\n",
       "      <th>3</th>\n",
       "      <td>October</td>\n",
       "      <td>11147</td>\n",
       "    </tr>\n",
       "    <tr>\n",
       "      <th>4</th>\n",
       "      <td>April</td>\n",
       "      <td>11084</td>\n",
       "    </tr>\n",
       "    <tr>\n",
       "      <th>5</th>\n",
       "      <td>June</td>\n",
       "      <td>10930</td>\n",
       "    </tr>\n",
       "    <tr>\n",
       "      <th>6</th>\n",
       "      <td>September</td>\n",
       "      <td>10501</td>\n",
       "    </tr>\n",
       "    <tr>\n",
       "      <th>7</th>\n",
       "      <td>March</td>\n",
       "      <td>9768</td>\n",
       "    </tr>\n",
       "    <tr>\n",
       "      <th>8</th>\n",
       "      <td>February</td>\n",
       "      <td>8055</td>\n",
       "    </tr>\n",
       "    <tr>\n",
       "      <th>9</th>\n",
       "      <td>November</td>\n",
       "      <td>6773</td>\n",
       "    </tr>\n",
       "    <tr>\n",
       "      <th>10</th>\n",
       "      <td>December</td>\n",
       "      <td>6762</td>\n",
       "    </tr>\n",
       "    <tr>\n",
       "      <th>11</th>\n",
       "      <td>January</td>\n",
       "      <td>5922</td>\n",
       "    </tr>\n",
       "  </tbody>\n",
       "</table>\n",
       "</div>"
      ],
      "text/plain": [
       "        index  arrival_date_month\n",
       "0      August               13859\n",
       "1        July               12649\n",
       "2         May               11780\n",
       "3     October               11147\n",
       "4       April               11084\n",
       "5        June               10930\n",
       "6   September               10501\n",
       "7       March                9768\n",
       "8    February                8055\n",
       "9    November                6773\n",
       "10   December                6762\n",
       "11    January                5922"
      ]
     },
     "execution_count": 192,
     "metadata": {},
     "output_type": "execute_result"
    }
   ],
   "source": [
    "# arrival_date_month\n",
    "df1.arrival_date_month.value_counts().reset_index()"
   ]
  },
  {
   "cell_type": "code",
   "execution_count": 193,
   "id": "c434af85",
   "metadata": {},
   "outputs": [
    {
     "data": {
      "image/png": "[encoded data removed]",
      "text/plain": [
       "<Figure size 864x576 with 1 Axes>"
      ]
     },
     "metadata": {
      "needs_background": "light"
     },
     "output_type": "display_data"
    }
   ],
   "source": [
    "plt.figure(figsize=(12, 8))\n",
    "month_order=df1.arrival_date_month.value_counts().index\n",
    "ax = sns.countplot(x='arrival_date_month', data=df1, order=month_order, saturation=0.9, palette='gnuplot', lw=2,ec='black')\n",
    "plt.xlabel('Hotel',fontsize=14,weight='bold')\n",
    "plt.ylabel('Count',fontsize=14,weight='bold')\n",
    "plt.xticks(rotation=90, fontsize=15)\n",
    "plt.yticks()\n",
    "plt.show()"
   ]
  },
  {
   "cell_type": "markdown",
   "id": "0bd052c5",
   "metadata": {},
   "source": [
    "August and July seems to be the most busiest months.  \n",
    "More than 12000 bookings were made in each of the months.  \n",
    "While the lowest count is for January that is around 6000."
   ]
  },
  {
   "cell_type": "markdown",
   "id": "f2d5eed7",
   "metadata": {},
   "source": [
    "### Daily Trend overall"
   ]
  },
  {
   "cell_type": "code",
   "execution_count": 194,
   "id": "83d0ff32",
   "metadata": {},
   "outputs": [
    {
     "data": {
      "image/png": "[encoded data removed]",
      "text/plain": [
       "<Figure size 864x576 with 1 Axes>"
      ]
     },
     "metadata": {
      "needs_background": "light"
     },
     "output_type": "display_data"
    }
   ],
   "source": [
    "plt.figure(figsize=(12, 8))\n",
    "day_order=df1.arrival_date_day_of_month.value_counts().index\n",
    "ax = sns.countplot(x='arrival_date_day_of_month', data=df1, saturation=0.9, palette='brg',)\n",
    "plt.xlabel('Hotel',fontsize=14,weight='bold')\n",
    "plt.ylabel('Count',fontsize=14,weight='bold')\n",
    "plt.xticks(rotation=90)\n",
    "plt.yticks()\n",
    "plt.show()"
   ]
  },
  {
   "cell_type": "markdown",
   "id": "6ca5200b",
   "metadata": {},
   "source": [
    "No specific pattern according to the days but the least reservations on the last day of month."
   ]
  },
  {
   "cell_type": "markdown",
   "id": "d920d467",
   "metadata": {},
   "source": [
    "### Weekend Night Stays"
   ]
  },
  {
   "cell_type": "code",
   "execution_count": 195,
   "id": "317e0250",
   "metadata": {},
   "outputs": [
    {
     "data": {
      "text/plain": [
       "0     51909\n",
       "2     33273\n",
       "1     30614\n",
       "4      1847\n",
       "3      1252\n",
       "6       152\n",
       "5        77\n",
       "8        58\n",
       "7        19\n",
       "9        10\n",
       "10        7\n",
       "12        5\n",
       "13        2\n",
       "16        2\n",
       "14        1\n",
       "18        1\n",
       "19        1\n",
       "Name: stays_in_weekend_nights, dtype: int64"
      ]
     },
     "execution_count": 195,
     "metadata": {},
     "output_type": "execute_result"
    }
   ],
   "source": [
    "# stays_in_weekend_nights \n",
    "df1.stays_in_weekend_nights.value_counts()"
   ]
  },
  {
   "cell_type": "code",
   "execution_count": 196,
   "id": "6427430d",
   "metadata": {},
   "outputs": [
    {
     "data": {
      "image/png": "[encoded data removed]",
      "text/plain": [
       "<Figure size 864x576 with 1 Axes>"
      ]
     },
     "metadata": {
      "needs_background": "light"
     },
     "output_type": "display_data"
    }
   ],
   "source": [
    "# stays_in_weekend_nights \n",
    "plt.figure(figsize=(12, 8))\n",
    "stay_order=df1.stays_in_weekend_nights.value_counts().index[:5]\n",
    "ax = sns.countplot(x='stays_in_weekend_nights', data=df1, order=stay_order,saturation=0.9, palette='brg',)\n",
    "plt.xlabel('Hotel',fontsize=14,weight='bold')\n",
    "plt.ylabel('Count',fontsize=14,weight='bold')\n",
    "plt.xticks(rotation=90)\n",
    "plt.yticks()\n",
    "plt.show()"
   ]
  },
  {
   "cell_type": "markdown",
   "id": "4ade25ba",
   "metadata": {},
   "source": [
    "A huge chunk of customers donot prefer staying in hotel on weekend nights. But some singles and couples do prefer."
   ]
  },
  {
   "cell_type": "markdown",
   "id": "b68bcb30",
   "metadata": {},
   "source": [
    "### Week Night Stays"
   ]
  },
  {
   "cell_type": "code",
   "execution_count": 197,
   "id": "7e67a5c6",
   "metadata": {},
   "outputs": [
    {
     "data": {
      "image/png": "[encoded data removed]",
      "text/plain": [
       "<Figure size 864x576 with 1 Axes>"
      ]
     },
     "metadata": {
      "needs_background": "light"
     },
     "output_type": "display_data"
    }
   ],
   "source": [
    "# stays_in_week_nights \n",
    "plt.figure(figsize=(12, 8))\n",
    "stay_order=df1.stays_in_week_nights.value_counts().index[:5]\n",
    "ax = sns.countplot(x='stays_in_week_nights', data=df1, order=stay_order,saturation=0.9, palette='brg',)\n",
    "plt.xlabel('Hotel',fontsize=14,weight='bold')\n",
    "plt.ylabel('Count',fontsize=14,weight='bold')\n",
    "plt.xticks(rotation=90)\n",
    "plt.yticks()\n",
    "plt.show()"
   ]
  },
  {
   "cell_type": "markdown",
   "id": "532d5ad3",
   "metadata": {},
   "source": [
    "This is interesting, Most couples prefer staying on week nights intead of weekend nights.  \n",
    "Singles and others also like to stay on week nights in hotels."
   ]
  },
  {
   "cell_type": "markdown",
   "id": "9529e08f",
   "metadata": {},
   "source": [
    "### Meal Distribution"
   ]
  },
  {
   "cell_type": "code",
   "execution_count": 198,
   "id": "5f0b332a",
   "metadata": {},
   "outputs": [
    {
     "data": {
      "image/png": "[encoded data removed]",
      "text/plain": [
       "<Figure size 864x576 with 1 Axes>"
      ]
     },
     "metadata": {
      "needs_background": "light"
     },
     "output_type": "display_data"
    }
   ],
   "source": [
    "# meal\n",
    "plt.figure(figsize=(12, 8))\n",
    "stay_order=df1.meal.value_counts().index\n",
    "ax = sns.countplot(x='meal', data=df1, order=stay_order,saturation=0.9, palette='autumn',)\n",
    "plt.xlabel('Hotel',fontsize=14,weight='bold')\n",
    "plt.ylabel('Count',fontsize=14,weight='bold')\n",
    "plt.xticks(rotation=90)\n",
    "plt.yticks()\n",
    "plt.show()"
   ]
  },
  {
   "cell_type": "markdown",
   "id": "b0e3496a",
   "metadata": {},
   "source": [
    "BB is the most ordered meal in both hotels."
   ]
  },
  {
   "cell_type": "code",
   "execution_count": 199,
   "id": "e2ba30a9",
   "metadata": {
    "scrolled": true
   },
   "outputs": [
    {
     "data": {
      "text/plain": [
       "Index(['hotel', 'is_canceled', 'lead_time', 'arrival_date_year',\n",
       "       'arrival_date_month', 'arrival_date_week_number',\n",
       "       'arrival_date_day_of_month', 'stays_in_weekend_nights',\n",
       "       'stays_in_week_nights', 'adults', 'children', 'babies', 'meal',\n",
       "       'country', 'market_segment', 'distribution_channel',\n",
       "       'is_repeated_guest', 'previous_cancellations',\n",
       "       'previous_bookings_not_canceled', 'reserved_room_type',\n",
       "       'assigned_room_type', 'booking_changes', 'deposit_type', 'agent',\n",
       "       'days_in_waiting_list', 'customer_type', 'adr',\n",
       "       'required_car_parking_spaces', 'total_of_special_requests',\n",
       "       'reservation_status', 'reservation_status_date'],\n",
       "      dtype='object')"
      ]
     },
     "execution_count": 199,
     "metadata": {},
     "output_type": "execute_result"
    }
   ],
   "source": [
    "df1.columns"
   ]
  },
  {
   "cell_type": "markdown",
   "id": "2ed66222",
   "metadata": {},
   "source": [
    "### Average Daily Rating Monthwise"
   ]
  },
  {
   "cell_type": "code",
   "execution_count": 200,
   "id": "a42f865e",
   "metadata": {},
   "outputs": [
    {
     "data": {
      "image/png": "[encoded data removed]",
      "text/plain": [
       "<Figure size 1080x576 with 1 Axes>"
      ]
     },
     "metadata": {
      "needs_background": "light"
     },
     "output_type": "display_data"
    }
   ],
   "source": [
    "# adr\n",
    "plt.figure(figsize=(15, 8))\n",
    "ax = sns.lineplot(x='arrival_date_month', y='adr', data=df1,)\n",
    "ax = sns.barplot(x='arrival_date_month', y='adr', data=df1,)\n",
    "plt.xlabel('Month',fontsize=18,weight='bold')\n",
    "plt.ylabel('Average daily rating',fontsize=18,weight='bold')\n",
    "plt.xticks(rotation=90, fontsize=15)\n",
    "plt.yticks(fontsize=15)\n",
    "plt.show()"
   ]
  },
  {
   "cell_type": "markdown",
   "id": "ecd2a163",
   "metadata": {},
   "source": [
    "Average daily rating is low in the starting and the ending 3 months overall.  \n",
    "In the mid of the year, from April to Sep, hotels maintain the average daily rating to 100. Several discounts or offers may be introd...."
   ]
  },
  {
   "cell_type": "markdown",
   "id": "f875e766",
   "metadata": {},
   "source": [
    "### Average Daily Rating According to Month and Hotel"
   ]
  },
  {
   "cell_type": "code",
   "execution_count": 201,
   "id": "8c599bf2",
   "metadata": {},
   "outputs": [
    {
     "data": {
      "image/png": "[encoded data removed]",
      "text/plain": [
       "<Figure size 1080x576 with 1 Axes>"
      ]
     },
     "metadata": {
      "needs_background": "light"
     },
     "output_type": "display_data"
    }
   ],
   "source": [
    "# monthly adr hotel wise\n",
    "plt.figure(figsize=(15, 8))\n",
    "ax = sns.barplot(x='arrival_date_month', y='adr', hue='hotel', data=df1, \n",
    "                 color=sns.set_palette('coolwarm'),\n",
    "                order=df1.groupby('arrival_date_month')['adr'].mean().sort_values(ascending=False).index,\n",
    "                hue_order=['Resort Hotel', 'City Hotel']) \n",
    "plt.xlabel('Month',fontsize=18,weight='bold')\n",
    "plt.ylabel('Average daily rating',fontsize=18,weight='bold')\n",
    "plt.xticks(rotation=90, fontsize=15)\n",
    "plt.yticks(fontsize=15)\n",
    "plt.show()"
   ]
  },
  {
   "cell_type": "markdown",
   "id": "192c2b42",
   "metadata": {},
   "source": [
    "Most bookings are in the mid of summer. The least in the starting of the year."
   ]
  },
  {
   "cell_type": "markdown",
   "id": "d3a76f08",
   "metadata": {},
   "source": [
    "### Is Average Daily Rating improving over years?"
   ]
  },
  {
   "cell_type": "code",
   "execution_count": 202,
   "id": "15b1b052",
   "metadata": {},
   "outputs": [
    {
     "data": {
      "text/plain": [
       "2016    56636\n",
       "2017    40630\n",
       "2015    21964\n",
       "Name: arrival_date_year, dtype: int64"
      ]
     },
     "execution_count": 202,
     "metadata": {},
     "output_type": "execute_result"
    }
   ],
   "source": [
    "# year-wise count\n",
    "df1.arrival_date_year.value_counts()"
   ]
  },
  {
   "cell_type": "code",
   "execution_count": 203,
   "id": "3f19477e",
   "metadata": {},
   "outputs": [
    {
     "data": {
      "text/plain": [
       "dtype('int64')"
      ]
     },
     "execution_count": 203,
     "metadata": {},
     "output_type": "execute_result"
    }
   ],
   "source": [
    "df1.arrival_date_year.dtype"
   ]
  },
  {
   "cell_type": "code",
   "execution_count": 204,
   "id": "99a6a5c0",
   "metadata": {
    "scrolled": true
   },
   "outputs": [],
   "source": [
    "# keeping only records having adr atleast with year specific\n",
    "df_2015=df1[(df1.arrival_date_year==2015) & (df1.adr > 0)]\n",
    "df_2016=df1[(df1.arrival_date_year==2016) & (df1.adr > 0)]\n",
    "df_2017=df1[(df1.arrival_date_year==2017)& (df1.adr > 0)]"
   ]
  },
  {
   "cell_type": "code",
   "execution_count": 205,
   "id": "2a27a20b",
   "metadata": {},
   "outputs": [
    {
     "data": {
      "text/plain": [
       "September    5009\n",
       "October      4824\n",
       "August       3790\n",
       "December     2795\n",
       "July         2714\n",
       "November     2273\n",
       "April           0\n",
       "February        0\n",
       "January         0\n",
       "June            0\n",
       "March           0\n",
       "May             0\n",
       "Name: arrival_date_month, dtype: int64"
      ]
     },
     "execution_count": 205,
     "metadata": {},
     "output_type": "execute_result"
    }
   ],
   "source": [
    "df_2015['arrival_date_month'].value_counts()"
   ]
  },
  {
   "cell_type": "code",
   "execution_count": 206,
   "id": "ddf1838f",
   "metadata": {},
   "outputs": [
    {
     "data": {
      "text/plain": [
       "September    5009\n",
       "October      4824\n",
       "August       3790\n",
       "December     2795\n",
       "July         2714\n",
       "November     2273\n",
       "Name: arrival_date_month, dtype: int64"
      ]
     },
     "execution_count": 206,
     "metadata": {},
     "output_type": "execute_result"
    }
   ],
   "source": [
    "# remove unused categories(some months have no data)\n",
    "df_2015['arrival_date_month'].cat.remove_unused_categories().value_counts()\n",
    "# df_2015['arrival_date_month'].value_counts()[:6]"
   ]
  },
  {
   "cell_type": "code",
   "execution_count": 207,
   "id": "d893760d",
   "metadata": {},
   "outputs": [
    {
     "data": {
      "image/png": "[encoded data removed]",
      "text/plain": [
       "<Figure size 1080x576 with 1 Axes>"
      ]
     },
     "metadata": {
      "needs_background": "light"
     },
     "output_type": "display_data"
    }
   ],
   "source": [
    "# 2015\n",
    "plt.figure(figsize=(15, 8))\n",
    "\n",
    "x_val = df_2015.groupby('arrival_date_month')['adr'].mean().dropna().index.to_list()\n",
    "order=[2,0,5,4,3,1]\n",
    "x_val = [x_val[i] for i in order]\n",
    "y_val = df_2015.groupby('arrival_date_month')['adr'].mean().dropna().values\n",
    "y_val = [y_val[i] for i in order]\n",
    "\n",
    "ax = sns.barplot(x=x_val, y=y_val, palette='cool')\n",
    "ax = sns.lineplot(x=x_val, y=y_val, marker=\"o\", color='purple')\n",
    "\n",
    "plt.xlabel('Month',fontsize=18,weight='bold')\n",
    "plt.ylabel('Average daily rating',fontsize=18,weight='bold')\n",
    "plt.xticks(rotation=90, fontsize=15)\n",
    "plt.yticks(fontsize=15)\n",
    "plt.show()"
   ]
  },
  {
   "cell_type": "code",
   "execution_count": 208,
   "id": "3b6b55a2",
   "metadata": {},
   "outputs": [
    {
     "data": {
      "text/plain": [
       "arrival_date_month\n",
       "August       108.658472\n",
       "December      77.392268\n",
       "July         100.066345\n",
       "November      62.363304\n",
       "October       81.070612\n",
       "September     96.806277\n",
       "Name: adr, dtype: float64"
      ]
     },
     "execution_count": 208,
     "metadata": {},
     "output_type": "execute_result"
    }
   ],
   "source": [
    "# verifying results with the above graph\n",
    "df_2015.groupby('arrival_date_month')['adr'].mean().dropna()"
   ]
  },
  {
   "cell_type": "code",
   "execution_count": 209,
   "id": "f9da24a2",
   "metadata": {},
   "outputs": [
    {
     "name": "stdout",
     "output_type": "stream",
     "text": [
      "['April', 'August', 'December', 'February', 'January', 'July', 'June', 'March', 'May', 'November', 'October', 'September']\n"
     ]
    }
   ],
   "source": [
    "print(df_2016.groupby('arrival_date_month')['adr'].mean().dropna().index.to_list())"
   ]
  },
  {
   "cell_type": "code",
   "execution_count": 210,
   "id": "a092eec5",
   "metadata": {
    "scrolled": false
   },
   "outputs": [
    {
     "data": {
      "image/png": "[encoded data removed]",
      "text/plain": [
       "<Figure size 1080x576 with 1 Axes>"
      ]
     },
     "metadata": {
      "needs_background": "light"
     },
     "output_type": "display_data"
    }
   ],
   "source": [
    "# 2016\n",
    "plt.figure(figsize=(15, 8))\n",
    "\n",
    "x_val = df_2016.groupby('arrival_date_month')['adr'].mean().dropna().index.to_list()\n",
    "order = [4,3,7,0,8,6,5,1,11,10,9,2]\n",
    "x_val = [x_val[i] for i in order]\n",
    "y_val = df_2016.groupby('arrival_date_month')['adr'].mean().dropna().values\n",
    "y_val = [y_val[i] for i in order]\n",
    "\n",
    "ax = sns.lineplot(x=x_val, y=y_val, marker='o')\n",
    "ax = sns.barplot(x=x_val, y=y_val, palette='cool')\n",
    "\n",
    "plt.xlabel('Month',fontsize=18,weight='bold')\n",
    "plt.ylabel('Average daily rating',fontsize=18,weight='bold')\n",
    "plt.xticks(rotation=90, fontsize=15)\n",
    "plt.yticks(fontsize=15)\n",
    "plt.show()"
   ]
  },
  {
   "cell_type": "code",
   "execution_count": 211,
   "id": "d0bed742",
   "metadata": {},
   "outputs": [
    {
     "data": {
      "text/plain": [
       "arrival_date_month\n",
       "April         90.274170\n",
       "August       144.182899\n",
       "December      88.583306\n",
       "February      71.409180\n",
       "January       66.696148\n",
       "July         127.305320\n",
       "June         108.307624\n",
       "March         79.469618\n",
       "May           98.410727\n",
       "November      82.318897\n",
       "October       96.638568\n",
       "September    115.905225\n",
       "Name: adr, dtype: float64"
      ]
     },
     "execution_count": 211,
     "metadata": {},
     "output_type": "execute_result"
    }
   ],
   "source": [
    "df_2016.groupby('arrival_date_month')['adr'].mean()"
   ]
  },
  {
   "cell_type": "code",
   "execution_count": 212,
   "id": "b2f8647a",
   "metadata": {},
   "outputs": [
    {
     "name": "stdout",
     "output_type": "stream",
     "text": [
      "['April', 'August', 'February', 'January', 'July', 'June', 'March', 'May']\n"
     ]
    }
   ],
   "source": [
    "print(df_2017.groupby('arrival_date_month')['adr'].mean().dropna().index.to_list())"
   ]
  },
  {
   "cell_type": "code",
   "execution_count": 213,
   "id": "ec934119",
   "metadata": {},
   "outputs": [
    {
     "data": {
      "image/png": "[encoded data removed]",
      "text/plain": [
       "<Figure size 1080x576 with 1 Axes>"
      ]
     },
     "metadata": {
      "needs_background": "light"
     },
     "output_type": "display_data"
    }
   ],
   "source": [
    "# 2017\n",
    "plt.figure(figsize=(15, 8))\n",
    "\n",
    "x_val = df_2017.groupby('arrival_date_month')['adr'].mean().dropna().index.to_list()\n",
    "order=[3,2,6,0,7,5,4,1]\n",
    "x_val = [x_val[i] for i in order]\n",
    "y_val = df_2017.groupby('arrival_date_month')['adr'].mean().dropna().values\n",
    "y_val = [y_val[i] for i in order]\n",
    "\n",
    "ax = sns.lineplot(x=x_val, y=y_val, marker='o')\n",
    "ax = sns.barplot(x=x_val, y=y_val, palette='cool')\n",
    "\n",
    "plt.xlabel('Month',fontsize=18,weight='bold')\n",
    "plt.ylabel('Average daily rating',fontsize=18,weight='bold')\n",
    "plt.xticks(rotation=90, fontsize=15)\n",
    "plt.yticks(fontsize=15)\n",
    "plt.show()"
   ]
  },
  {
   "cell_type": "code",
   "execution_count": 214,
   "id": "2cba21e0",
   "metadata": {},
   "outputs": [
    {
     "data": {
      "text/plain": [
       "arrival_date_month\n",
       "April       112.443496\n",
       "August      165.187507\n",
       "February     78.258063\n",
       "January      75.075040\n",
       "July        144.241270\n",
       "June        127.005789\n",
       "March        83.416412\n",
       "May         120.670117\n",
       "Name: adr, dtype: float64"
      ]
     },
     "execution_count": 214,
     "metadata": {},
     "output_type": "execute_result"
    }
   ],
   "source": [
    "df_2017.groupby('arrival_date_month')['adr'].mean().dropna()"
   ]
  },
  {
   "cell_type": "code",
   "execution_count": 215,
   "id": "172d1ae3",
   "metadata": {},
   "outputs": [
    {
     "data": {
      "text/plain": [
       "89.57935622518086"
      ]
     },
     "execution_count": 215,
     "metadata": {},
     "output_type": "execute_result"
    }
   ],
   "source": [
    "df_2015['adr'].mean()"
   ]
  },
  {
   "cell_type": "code",
   "execution_count": 216,
   "id": "d9df9956",
   "metadata": {},
   "outputs": [
    {
     "data": {
      "text/plain": [
       "99.86972870232502"
      ]
     },
     "execution_count": 216,
     "metadata": {},
     "output_type": "execute_result"
    }
   ],
   "source": [
    "df_2016['adr'].mean()"
   ]
  },
  {
   "cell_type": "code",
   "execution_count": 217,
   "id": "271216c2",
   "metadata": {},
   "outputs": [
    {
     "data": {
      "text/plain": [
       "115.94998359065833"
      ]
     },
     "execution_count": 217,
     "metadata": {},
     "output_type": "execute_result"
    }
   ],
   "source": [
    "df_2017['adr'].mean()"
   ]
  },
  {
   "cell_type": "markdown",
   "id": "15e809fa",
   "metadata": {},
   "source": [
    "Yes, Average daily rating is improving yearly.  \n",
    "In 2015 and 2016, it is almost 90 and 100 respectively, while in 2017 it is nearly 120.  \n",
    "The highest bookings are in the month of August and it's growing averge daily rating can also be seen in the above graphs over years.  \n",
    "The bookings count goes down after August and again start increasing from December.  \n",
    "The first 6 months data from 2015 and last 4 months from 2017 isn't available. Otherwise result might be better."
   ]
  },
  {
   "cell_type": "code",
   "execution_count": 218,
   "id": "bb706698",
   "metadata": {},
   "outputs": [
    {
     "data": {
      "text/plain": [
       "May          6305\n",
       "April        5658\n",
       "June         5640\n",
       "July         5310\n",
       "March        4949\n",
       "August       4925\n",
       "February     4169\n",
       "January      3674\n",
       "December        0\n",
       "November        0\n",
       "October         0\n",
       "September       0\n",
       "Name: arrival_date_month, dtype: int64"
      ]
     },
     "execution_count": 218,
     "metadata": {},
     "output_type": "execute_result"
    }
   ],
   "source": [
    "# checking the bookings for 2017\n",
    "df1[df1.arrival_date_year==2017]['arrival_date_month'].value_counts()"
   ]
  },
  {
   "cell_type": "markdown",
   "id": "368f6cea",
   "metadata": {},
   "source": [
    "### Is Desposit_type having any effect on Cancellations?"
   ]
  },
  {
   "cell_type": "code",
   "execution_count": 226,
   "id": "28b233d3",
   "metadata": {},
   "outputs": [
    {
     "data": {
      "text/plain": [
       "deposit_type\n",
       "No Deposit    104481\n",
       "Non Refund     14587\n",
       "Refundable       162\n",
       "Name: is_canceled, dtype: int64"
      ]
     },
     "execution_count": 226,
     "metadata": {},
     "output_type": "execute_result"
    }
   ],
   "source": [
    "df1.groupby('deposit_type')['is_canceled'].agg(\"count\")"
   ]
  },
  {
   "cell_type": "code",
   "execution_count": 233,
   "id": "5bf6efae",
   "metadata": {
    "scrolled": true
   },
   "outputs": [
    {
     "data": {
      "text/html": [
       "<div>\n",
       "<style scoped>\n",
       "    .dataframe tbody tr th:only-of-type {\n",
       "        vertical-align: middle;\n",
       "    }\n",
       "\n",
       "    .dataframe tbody tr th {\n",
       "        vertical-align: top;\n",
       "    }\n",
       "\n",
       "    .dataframe thead th {\n",
       "        text-align: right;\n",
       "    }\n",
       "</style>\n",
       "<table border=\"1\" class=\"dataframe\">\n",
       "  <thead>\n",
       "    <tr style=\"text-align: right;\">\n",
       "      <th>deposit_type</th>\n",
       "      <th>No Deposit</th>\n",
       "      <th>Non Refund</th>\n",
       "      <th>Refundable</th>\n",
       "    </tr>\n",
       "    <tr>\n",
       "      <th>is_canceled</th>\n",
       "      <th></th>\n",
       "      <th></th>\n",
       "      <th></th>\n",
       "    </tr>\n",
       "  </thead>\n",
       "  <tbody>\n",
       "    <tr>\n",
       "      <th>0</th>\n",
       "      <td>62.728340</td>\n",
       "      <td>0.078001</td>\n",
       "      <td>0.105678</td>\n",
       "    </tr>\n",
       "    <tr>\n",
       "      <th>1</th>\n",
       "      <td>24.901451</td>\n",
       "      <td>12.156336</td>\n",
       "      <td>0.030194</td>\n",
       "    </tr>\n",
       "  </tbody>\n",
       "</table>\n",
       "</div>"
      ],
      "text/plain": [
       "deposit_type  No Deposit  Non Refund  Refundable\n",
       "is_canceled                                     \n",
       "0              62.728340    0.078001    0.105678\n",
       "1              24.901451   12.156336    0.030194"
      ]
     },
     "execution_count": 233,
     "metadata": {},
     "output_type": "execute_result"
    }
   ],
   "source": [
    "pd.crosstab(df1['is_canceled'], df1['deposit_type'], normalize=True, )*100"
   ]
  },
  {
   "cell_type": "markdown",
   "id": "f32c6914",
   "metadata": {},
   "source": [
    "It can be clearly seen for the Non Refund deposit type. Cancellations are high for this type."
   ]
  },
  {
   "cell_type": "markdown",
   "id": "81a7c109",
   "metadata": {},
   "source": [
    "### Summary:"
   ]
  },
  {
   "cell_type": "markdown",
   "id": "2245da09",
   "metadata": {},
   "source": [
    "• Most customers prefered City Hotel maybe due to cheaper rates or better services. Resort hotel seems to be expensive, if not they need to work on its maintenance.\n",
    "<br/>\n",
    "<br/>\n",
    "• A Significant amount of people come from Portugal, following Great Britain(UK) and France topping the location chart. A lot of great deals or discounts should be offered to them in order to take care and retain customers.\n",
    "<br/>\n",
    "<br/>\n",
    "• We can see clearly in above graph that most of bookings are in summer months. So, we can target that period.\n",
    "<br/>\n",
    "<br/>\n",
    "• Despite of not having last 4 months data of 2017, it can be still seen that Average Daily Rating is improving over years. <br/> \n",
    "<br/>\n",
    "• People loved BB meal the most. Keeping its quality high, focus on the other ones.\n",
    "<br/>\n",
    "<br/>\n",
    "• Mostly, couples loved staying in the hotel in week nights rather than other groups. Surprising deals maybe introduced in the weekend nights.\n",
    "<br/>\n",
    "<br/>\n",
    "• Customers having deposit type \"Non Refund\" are most likely to cancel the booking.\n"
   ]
  },
  {
   "cell_type": "code",
   "execution_count": null,
   "id": "1143ccfb",
   "metadata": {},
   "outputs": [],
   "source": []
  },
  {
   "cell_type": "markdown",
   "id": "7d0260e7",
   "metadata": {},
   "source": [
    "This is the till now what I've explored from this dataset. If you found it useful, do share and upvote it. Thanks"
   ]
  },
  {
   "cell_type": "code",
   "execution_count": null,
   "id": "287d3550",
   "metadata": {},
   "outputs": [],
   "source": []
  },
  {
   "cell_type": "code",
   "execution_count": null,
   "id": "af8d53e9",
   "metadata": {},
   "outputs": [],
   "source": []
  },
  {
   "cell_type": "code",
   "execution_count": null,
   "id": "9d6d545e",
   "metadata": {},
   "outputs": [],
   "source": []
  },
  {
   "cell_type": "markdown",
   "id": "dbeaec01",
   "metadata": {},
   "source": [
    "### References:  \n",
    "•https://medium.com/analytics-vidhya/exploratory-data-analysis-of-the-hotel-booking-demand-with-python-200925230106    "
   ]
  }
 ],
 "metadata": {
  "kernelspec": {
   "display_name": "Python 3",
   "language": "python",
   "name": "python3"
  },
  "language_info": {
   "codemirror_mode": {
    "name": "ipython",
    "version": 3
   },
   "file_extension": ".py",
   "mimetype": "text/x-python",
   "name": "python",
   "nbconvert_exporter": "python",
   "pygments_lexer": "ipython3",
   "version": "3.8.8"
  }
 },
 "nbformat": 4,
 "nbformat_minor": 5
}
